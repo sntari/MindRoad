{
 "cells": [
  {
   "cell_type": "code",
   "execution_count": null,
   "metadata": {},
   "outputs": [],
   "source": [
    "from flask import *\n",
    "from langchain import OpenAI,PromptTemplate,LLMChain\n",
    "import openai\n"
   ]
  },
  {
   "cell_type": "code",
   "execution_count": null,
   "metadata": {},
   "outputs": [],
   "source": [
    "#api 키 불러오기\n",
    "def load_api_key(file_path):\n",
    "    with open(file_path, 'r') as file:\n",
    "        api_key = file.read().strip()\n",
    "    return api_key\n",
    "\n",
    "# OpenAI API 설정\n",
    "api_key = load_api_key(\"\") #api 파일 경로 설정\n",
    "model = OpenAI(openai_api_key=api_key, model=\"GPT-4o\")\n",
    "\n",
    "# 타로+사용자고민 해석 함수\n",
    "def interpret_cards(user_input,cards):\n",
    "    try:    \n",
    "        tarot_template_reason = PromptTemplate(\n",
    "            template=(\n",
    "                \"사용자의 질문: '{user_input}'\\n\"\n",
    "                \"타로카드: {cards}\\n\"\n",
    "                \"사용자의 질문과 타로카드를 통해 심리상담의 역할을 해주고, 타로카드를 중심으로 해석해주세요.\"\n",
    "            ),\n",
    "            input_variables=[\"user_input\",\"cards\"]\n",
    "        )\n",
    "\n",
    "        # LLMChain 생성\n",
    "        reason_chain = LLMChain(llm=model,prompt_template=tarot_template_reason)\n",
    "        reason_response = reason_chain.run(input=user_input,cards=cards)\n",
    "\n",
    "        answer = reason_response.strip()\n",
    "        \n",
    "        # 답변 길이 제한\n",
    "        if len(answer) > 500:\n",
    "            answer = answer[:500]\n",
    "\n",
    "        return jsonify({\"answer\":answer})\n",
    "\n",
    "    except Exception as e:\n",
    "        return \"해석 중 오류가 발생했습니다.\"\n",
    "\n",
    "\n",
    "# 타로 일반 해석 함수\n",
    "def general_reading(user_select,cards):\n",
    "    try:\n",
    "        tarot_template_genal = PromptTemplate(\n",
    "        template=(\n",
    "            \"사용자의 질문 :'{user_select}'\\n\"# 오늘의 운세, 연애, 금전, 직장\n",
    "            \"타로카드:{cards}\\n\",\n",
    "            \"사용자의 {user_select}를 주제로 타로 해석을 해주세요\"\n",
    "            ),\n",
    "        input_variables=[\"user_select\",\"cards\"]\n",
    "        )\n",
    "        general_chain = LLMChain(llm=model,prompt_template=tarot_template_genal)\n",
    "        general_response = general_chain.run(input=user_select,cards=cards)\n",
    "        answer = general_response.strip()\n",
    "        \n",
    "        # 답변 길이 제한\n",
    "        if len(answer) > 500:\n",
    "            answer = answer[:500]\n",
    "\n",
    "        return jsonify({\"answer\":answer})\n",
    "    \n",
    "    except Exception as e:\n",
    "        return \"해석 중 오류가 발생했습니다.\""
   ]
  }
 ],
 "metadata": {
  "kernelspec": {
   "display_name": "base",
   "language": "python",
   "name": "python3"
  },
  "language_info": {
   "codemirror_mode": {
    "name": "ipython",
    "version": 3
   },
   "file_extension": ".py",
   "mimetype": "text/x-python",
   "name": "python",
   "nbconvert_exporter": "python",
   "pygments_lexer": "ipython3",
   "version": "3.12.4"
  }
 },
 "nbformat": 4,
 "nbformat_minor": 2
}
