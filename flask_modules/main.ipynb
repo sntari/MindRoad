{
 "cells": [
  {
   "cell_type": "code",
   "execution_count": 2,
   "metadata": {},
   "outputs": [
    {
     "name": "stderr",
     "output_type": "stream",
     "text": [
      "c:\\Users\\SMHRD\\anaconda3\\Lib\\site-packages\\transformers\\tokenization_utils_base.py:1601: FutureWarning: `clean_up_tokenization_spaces` was not set. It will be set to `True` by default. This behavior will be depracted in transformers v4.45, and will be then set to `False` by default. For more details check this issue: https://github.com/huggingface/transformers/issues/31884\n",
      "  warnings.warn(\n"
     ]
    },
    {
     "name": "stdout",
     "output_type": "stream",
     "text": [
      " * Serving Flask app '__main__'\n",
      " * Debug mode: off\n"
     ]
    },
    {
     "name": "stderr",
     "output_type": "stream",
     "text": [
      "WARNING: This is a development server. Do not use it in a production deployment. Use a production WSGI server instead.\n",
      " * Running on http://127.0.0.1:7000\n",
      "Press CTRL+C to quit\n",
      "127.0.0.1 - - [09/Sep/2024 11:02:23] \"OPTIONS /chatbot HTTP/1.1\" 200 -\n"
     ]
    },
    {
     "name": "stdout",
     "output_type": "stream",
     "text": [
      "Received data: {'user_nick': '12', 'input': '취업준비가 힘들다'}\n",
      "Processing input: user_nick=12, user_input=취업준비가 힘들다\n"
     ]
    },
    {
     "name": "stderr",
     "output_type": "stream",
     "text": [
      "c:\\Users\\SMHRD\\MindRoad\\flask_modules\\chatbot.py:22: LangChainDeprecationWarning: The class `LLMChain` was deprecated in LangChain 0.1.17 and will be removed in 1.0. Use RunnableSequence, e.g., `prompt | llm` instead.\n",
      "  ck_chain = LLMChain(llm=self.model, prompt=template)\n",
      "c:\\Users\\SMHRD\\MindRoad\\flask_modules\\chatbot.py:23: LangChainDeprecationWarning: The method `Chain.run` was deprecated in langchain 0.1.0 and will be removed in 1.0. Use invoke instead.\n",
      "  response = ck_chain.run(user_input=user_input).strip()\n"
     ]
    },
    {
     "name": "stdout",
     "output_type": "stream",
     "text": [
      "Is problem flag: True\n",
      "고민임\n",
      "Extracted reason: '취업/진로'\n",
      "Problem reason: 취업/진로\n",
      "reference : 님께서 왜 내가 취업이 이렇게 싫은지, 취업이라고 하면 떠오르는 이미지는 무엇인지에 대해 먼저 정리해 보시면 좋을 것 같습니다. 나에게 취업이란, 직장이란, 어떤 느낌이기에 좋은 조건의 면접이 와도 가고 싶지 않은 마음이 드는지, 가지 않기로 결정했을 때 어떤 감정들이 들었는지요.  하고 싶지 않은 마음에 대해 스스로를 비난하거나 채찍질을 하는 것이 아니라, 이렇게 불안함에도 불구하고, 취준 생활이 길어지는 것이 답답함에도 불구하고, 왜 나는 면접을 가고 싶지 않은지, 왜 일을 시작하고 싶지 않은지, 왜 돈을 벌고 싶지 않은지에 대해 그 이유를 찬찬히, 조심스럽게 들여다 보시는 것이 필요합니다.  이 과정이 필요한 건, 지금의   님께서 자격증도 따고, 이력서도 넣었음에도 불구하고 그 마지막 스텝이 내딛어지지 않는, 그 이유를 알게 되어야 그 부분에 대한 대처 방법도 마련할 수 있기 때문이에요. 우울감으로 무언가를 시작하기에 기력이 없는 것인지, 새로운 시작이 두려운 것인지, 낯선 사람과 만나는 게 버거운지... 등에 대해 솔직하게 내 마음을 들여다 봐 주세요.\n"
     ]
    },
    {
     "name": "stderr",
     "output_type": "stream",
     "text": [
      "127.0.0.1 - - [09/Sep/2024 11:02:52] \"POST /chatbot HTTP/1.1\" 200 -\n"
     ]
    },
    {
     "name": "stdout",
     "output_type": "stream",
     "text": [
      "정렬된 형태소 분석 결과: ['취업/NNG', '준비/NNG', '가/JKS', '힘들다/VA']\n"
     ]
    },
    {
     "name": "stderr",
     "output_type": "stream",
     "text": [
      "127.0.0.1 - - [09/Sep/2024 11:22:06] \"OPTIONS /chatbot HTTP/1.1\" 200 -\n"
     ]
    },
    {
     "name": "stdout",
     "output_type": "stream",
     "text": [
      "Received data: {'user_nick': '12', 'input': '지룬이~'}\n",
      "Processing input: user_nick=12, user_input=지룬이~\n",
      "Is problem flag: False\n"
     ]
    },
    {
     "name": "stderr",
     "output_type": "stream",
     "text": [
      "127.0.0.1 - - [09/Sep/2024 11:22:09] \"POST /chatbot HTTP/1.1\" 200 -\n",
      "127.0.0.1 - - [09/Sep/2024 11:22:15] \"OPTIONS /chatbot HTTP/1.1\" 200 -\n"
     ]
    },
    {
     "name": "stdout",
     "output_type": "stream",
     "text": [
      "Received data: {'user_nick': '12', 'input': '취업준비가 고민이야'}\n",
      "Processing input: user_nick=12, user_input=취업준비가 고민이야\n",
      "Is problem flag: True\n",
      "고민임\n",
      "Extracted reason: '취업/진로'\n",
      "Problem reason: 취업/진로\n",
      "reference : 님께서 왜 내가 취업이 이렇게 싫은지, 취업이라고 하면 떠오르는 이미지는 무엇인지에 대해 먼저 정리해 보시면 좋을 것 같습니다. 나에게 취업이란, 직장이란, 어떤 느낌이기에 좋은 조건의 면접이 와도 가고 싶지 않은 마음이 드는지, 가지 않기로 결정했을 때 어떤 감정들이 들었는지요.  하고 싶지 않은 마음에 대해 스스로를 비난하거나 채찍질을 하는 것이 아니라, 이렇게 불안함에도 불구하고, 취준 생활이 길어지는 것이 답답함에도 불구하고, 왜 나는 면접을 가고 싶지 않은지, 왜 일을 시작하고 싶지 않은지, 왜 돈을 벌고 싶지 않은지에 대해 그 이유를 찬찬히, 조심스럽게 들여다 보시는 것이 필요합니다.  이 과정이 필요한 건, 지금의   님께서 자격증도 따고, 이력서도 넣었음에도 불구하고 그 마지막 스텝이 내딛어지지 않는, 그 이유를 알게 되어야 그 부분에 대한 대처 방법도 마련할 수 있기 때문이에요. 우울감으로 무언가를 시작하기에 기력이 없는 것인지, 새로운 시작이 두려운 것인지, 낯선 사람과 만나는 게 버거운지... 등에 대해 솔직하게 내 마음을 들여다 봐 주세요.\n"
     ]
    },
    {
     "name": "stderr",
     "output_type": "stream",
     "text": [
      "127.0.0.1 - - [09/Sep/2024 11:22:38] \"POST /chatbot HTTP/1.1\" 200 -\n"
     ]
    },
    {
     "name": "stdout",
     "output_type": "stream",
     "text": [
      "정렬된 형태소 분석 결과: ['취업/NNG', '준비/NNG', '가/JKS', '고민/NNG', '이야/JKS']\n"
     ]
    }
   ],
   "source": [
    "from flask import Flask, request, jsonify\n",
    "from flask_cors import CORS\n",
    "from chatbot import ChatBot, load_api_key\n",
    "from OktSentiment import Sentiment\n",
    "from tarot import TarotBot\n",
    "from refer_text import ResponseSearch\n",
    "\n",
    "app = Flask(__name__)\n",
    "CORS(app)\n",
    "\n",
    "# ChatBot 인스턴스 생성\n",
    "api_key = load_api_key()\n",
    "if not api_key:\n",
    "    raise ValueError(\"API key not found or invalid. Please check your api_key.txt file.\")\n",
    "respon_search = ResponseSearch('c:/Users/SMHRD/최종_참조자료.csv',\"jhgan/ko-sroberta-multitask\")\n",
    "chatbot = ChatBot(api_key, respon_search)  # CSV 파일 경로를 적절히 수정하세요\n",
    "#C:\\Users\\SMHRD\\Documents\\카카오톡 받은 파일\\원인-대처종합.csv //c:/Users/SMHRD/원인-대처종합.csv\n",
    "# Sentiment 인스턴스 생성\n",
    "sentiment_analyzer = Sentiment()\n",
    "\n",
    "@app.route(\"/chatbot\", methods=[\"POST\"])\n",
    "def chat():\n",
    "    data = request.json\n",
    "    print(\"Received data:\", data)\n",
    "    user_nick = data.get(\"user_nick\")\n",
    "    user_input = data.get(\"input\")\n",
    "    \n",
    "    if user_input:\n",
    "        try:\n",
    "            response = chatbot.process_input(user_nick, user_input)\n",
    "            \n",
    "            if response.get(\"isProblem\"):\n",
    "                # 형태소 분석 및 감정 분석 수행\n",
    "                sentiment_results = sentiment_analyzer.parse([user_input])\n",
    "                # 결과가 딕셔너리 형태로 바꾸고 소수점 소수점 둘쨰자리까지\n",
    "                if 'polarity' in sentiment_results and len(sentiment_results['polarity']) > 0:\n",
    "                    sentiment_results = sentiment_results['polarity'][0]\n",
    "                    sentiment_results = {key: round(value * 100, 2) for key, value in sentiment_results.items()}\n",
    "\n",
    "                response.update({\n",
    "                    \"sentiment\": sentiment_results\n",
    "                })\n",
    "\n",
    "            return jsonify(response)\n",
    "        except Exception as e:\n",
    "            print(f\"Error occurred: {str(e)}\")\n",
    "            return jsonify({\"error\": f\"An error occurred while processing your request: {str(e)}\"}), 500\n",
    "    else:\n",
    "        return jsonify({\"error\": \"No input provided\"}), 400\n",
    "\n",
    "# 타로카드 라우트\n",
    "@app.route(\"/api/interpret\",methods=[\"POST\"])\n",
    "\n",
    "def tarot_card():\n",
    "    data = request.json\n",
    "    cards = data.get(\"cards\")\n",
    "    user_input = data.get(\"user_input\")\n",
    "    user_select = data.get(\"user_select\")\n",
    "    print(\"recived data: \",data)\n",
    "    if not cards or len(cards) != 3:\n",
    "        return jsonify({\"error\": \"카드를 다시 선택해 주세요.\"}),400\n",
    "    \n",
    "    key_path = \"c:/Users/SMHRD/api.txt\"\n",
    "    try:\n",
    "        tarot = TarotBot(api_key_path=key_path)\n",
    "        if user_input:\n",
    "            print(user_input)\n",
    "            response = tarot.interpret_cards(user_input,cards)\n",
    "        else:\n",
    "            response = tarot.general_reading(user_select,cards)\n",
    "        print(\"response: \",response.get_json())\n",
    "        return response\n",
    "\n",
    "    except Exception as e:\n",
    "        print(\"Error\",str(e))\n",
    "        return jsonify({\"error\":str(e)}),500\n",
    "\n",
    "if __name__ == \"__main__\":\n",
    "    app.run(port=7000)"
   ]
  }
 ],
 "metadata": {
  "kernelspec": {
   "display_name": "base",
   "language": "python",
   "name": "python3"
  },
  "language_info": {
   "codemirror_mode": {
    "name": "ipython",
    "version": 3
   },
   "file_extension": ".py",
   "mimetype": "text/x-python",
   "name": "python",
   "nbconvert_exporter": "python",
   "pygments_lexer": "ipython3",
   "version": "3.11.7"
  }
 },
 "nbformat": 4,
 "nbformat_minor": 2
}
