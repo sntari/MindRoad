{
 "cells": [
  {
   "cell_type": "code",
   "execution_count": 6,
   "metadata": {},
   "outputs": [
    {
     "name": "stdout",
     "output_type": "stream",
     "text": [
      " * Serving Flask app '__main__'\n",
      " * Debug mode: off\n"
     ]
    },
    {
     "name": "stderr",
     "output_type": "stream",
     "text": [
      "WARNING: This is a development server. Do not use it in a production deployment. Use a production WSGI server instead.\n",
      " * Running on http://127.0.0.1:7000\n",
      "Press CTRL+C to quit\n",
      "127.0.0.1 - - [04/Sep/2024 16:33:23] \"OPTIONS /chatbot HTTP/1.1\" 200 -\n"
     ]
    },
    {
     "name": "stdout",
     "output_type": "stream",
     "text": [
      "Received data: {'user_nick': '12', 'input': '취업준비가 너무 힘들어요'}\n",
      "Processing input: user_nick=12, user_input=취업준비가 너무 힘들어요\n",
      "Is problem flag: True\n",
      "고민임\n"
     ]
    },
    {
     "name": "stderr",
     "output_type": "stream",
     "text": [
      "127.0.0.1 - - [04/Sep/2024 16:33:25] \"POST /chatbot HTTP/1.1\" 200 -\n"
     ]
    },
    {
     "name": "stdout",
     "output_type": "stream",
     "text": [
      "Extracted reason: '취업/진로'\n",
      "Problem reason: 취업/진로\n",
      "정렬된 형태소 분석 결과: ['취업/NNG', '준비/NNG', '가/JKS', '너무/MAG', '힘들어요/VA']\n"
     ]
    },
    {
     "name": "stderr",
     "output_type": "stream",
     "text": [
      "127.0.0.1 - - [04/Sep/2024 16:33:33] \"OPTIONS /api/interpret HTTP/1.1\" 200 -\n"
     ]
    },
    {
     "name": "stdout",
     "output_type": "stream",
     "text": [
      "recived data:  {'user_select': '오늘의 운세', 'cards': ['Five of Pentacles', 'Three of Wands', 'The Hierophant'], 'user_input': '취업준비가 너무 힘들어요'}\n",
      "취업준비가 너무 힘들어요\n"
     ]
    },
    {
     "name": "stderr",
     "output_type": "stream",
     "text": [
      "127.0.0.1 - - [04/Sep/2024 16:33:36] \"POST /api/interpret HTTP/1.1\" 200 -\n"
     ]
    },
    {
     "name": "stdout",
     "output_type": "stream",
     "text": [
      "response:  {'answer': '**카드 의미 한줄 요약:**\\n- Five of Pentacles: 어려움과 결핍\\n- Three of Wands: 새로운 기회와 확장\\n- The Hierophant: 전통과 교훈\\n\\n**취업준비 주제 종합 해석:**\\n현재 취업준비의 과정에서 많은 어려움과 결핍(Five of Pentacles)을 느끼고 있을 것입니다. 하지만 새로운 기회와 확장 가능성(Three of Wands)이 다가오고 있음을 기억하세요. 이 시기에는 전통적인 방법과 교훈(The Hierophant)을 참고하여 계획을 세우고, 멘토나 전문가의 조언을 듣는 것이 중요합니다. 어려운 시기를 지나 새로운 기회로 나아갈 수 있으니 포기하지 말고 차근차근 준비해 나가세요.'}\n"
     ]
    },
    {
     "name": "stderr",
     "output_type": "stream",
     "text": [
      "127.0.0.1 - - [04/Sep/2024 16:33:50] \"OPTIONS /api/interpret HTTP/1.1\" 200 -\n"
     ]
    },
    {
     "name": "stdout",
     "output_type": "stream",
     "text": [
      "recived data:  {'user_select': '오늘의 운세', 'cards': ['The Sun', 'The Empress', 'The Chariot']}\n"
     ]
    },
    {
     "name": "stderr",
     "output_type": "stream",
     "text": [
      "127.0.0.1 - - [04/Sep/2024 16:33:54] \"POST /api/interpret HTTP/1.1\" 200 -\n"
     ]
    },
    {
     "name": "stdout",
     "output_type": "stream",
     "text": [
      "response:  {'answer': {'cards': 'The Sun, The Empress, The Chariot', 'text': '각 카드의 의미:\\n- The Sun: 기쁨과 성공\\n- The Empress: 풍요와 창조성\\n- The Chariot: 의지와 승리\\n\\n오늘의 운세 종합 해석:\\n오늘은 기쁨과 성공의 기운이 당신을 감싸고 있습니다. The Sun 카드는 밝고 긍정적인 에너지를 나타내며, 당신이 계획한 일들이 순조롭게 진행될 것입니다. The Empress는 당신의 창조성과 풍요로움을 강조하며, 새로운 아이디어나 프로젝트에서 큰 성과를 기대할 수 있음을 시사합니다. 마지막으로 The Chariot은 당신의 강한 의지와 결단력이 오늘의 성공을 이끄는 중요한 요소임을 나타냅니다. 목표를 향해 힘차게 나아가며, 주어진 기회를 최대한 활용하세요. 오늘은 당신의 노력과 자신감이 빛을 발하는 하루가 될 것입니다.', 'user_select': '오늘의 운세'}}\n"
     ]
    },
    {
     "name": "stderr",
     "output_type": "stream",
     "text": [
      "127.0.0.1 - - [04/Sep/2024 16:34:07] \"OPTIONS /chatbot HTTP/1.1\" 200 -\n"
     ]
    },
    {
     "name": "stdout",
     "output_type": "stream",
     "text": [
      "Received data: {'user_nick': '12', 'input': '취업준비가 너무 힘들어요'}\n",
      "Processing input: user_nick=12, user_input=취업준비가 너무 힘들어요\n",
      "Is problem flag: True\n",
      "고민임\n"
     ]
    },
    {
     "name": "stderr",
     "output_type": "stream",
     "text": [
      "127.0.0.1 - - [04/Sep/2024 16:34:09] \"POST /chatbot HTTP/1.1\" 200 -\n"
     ]
    },
    {
     "name": "stdout",
     "output_type": "stream",
     "text": [
      "Extracted reason: '취업/진로'\n",
      "Problem reason: 취업/진로\n",
      "정렬된 형태소 분석 결과: ['취업/NNG', '준비/NNG', '가/JKS', '너무/MAG', '힘들어요/VA']\n"
     ]
    },
    {
     "name": "stderr",
     "output_type": "stream",
     "text": [
      "127.0.0.1 - - [04/Sep/2024 16:34:19] \"OPTIONS /api/interpret HTTP/1.1\" 200 -\n"
     ]
    },
    {
     "name": "stdout",
     "output_type": "stream",
     "text": [
      "recived data:  {'user_select': '오늘의 운세', 'cards': ['Temperance', 'The Emperor', 'Four of Swords'], 'user_input': '취업준비가 너무 힘들어요'}\n",
      "취업준비가 너무 힘들어요\n"
     ]
    },
    {
     "name": "stderr",
     "output_type": "stream",
     "text": [
      "127.0.0.1 - - [04/Sep/2024 16:34:23] \"POST /api/interpret HTTP/1.1\" 200 -\n"
     ]
    },
    {
     "name": "stdout",
     "output_type": "stream",
     "text": [
      "response:  {'answer': '카드의 의미:\\n- Temperance: 조화와 균형\\n- The Emperor: 권위와 구조\\n- Four of Swords: 휴식과 재충전\\n\\n종합 해석:\\n취업준비가 너무 힘들다고 느끼는 당신에게 타로카드는 균형, 구조, 그리고 휴식을 강조하고 있습니다. Temperance 카드는 조화와 균형을 찾으라고 조언합니다. The Emperor 카드는 체계적인 계획과 규율을 통해 안정감을 찾으라는 메시지를 전달합니다. 마지막으로, Four of Swords는 잠시 휴식을 취하고 재충전을 하라는 신호입니다. 과도한 스트레스는 오히려 역효과를 낼 수 있으니, 잠시 멈추고 자신을 돌보며 에너지를 회복하는 것이 중요합니다. 균형 잡힌 접근과 체계적인 계획을 통해 더 나은 결과를 얻을 수 있을 것입니다.'}\n"
     ]
    }
   ],
   "source": [
    "from flask import Flask, request, jsonify\n",
    "from flask_cors import CORS\n",
    "from chatbot import ChatBot, load_api_key\n",
    "from OktSentiment import Sentiment\n",
    "from tarot import TarotBot\n",
    "\n",
    "app = Flask(__name__)\n",
    "CORS(app)\n",
    "\n",
    "# ChatBot 인스턴스 생성\n",
    "api_key = load_api_key()\n",
    "if not api_key:\n",
    "    raise ValueError(\"API key not found or invalid. Please check your api_key.txt file.\")\n",
    "chatbot = ChatBot(api_key, 'c:/Users/SMHRD/원인-대처종합.csv')  # CSV 파일 경로를 적절히 수정하세요\n",
    "#C:\\Users\\SMHRD\\Documents\\카카오톡 받은 파일\\원인-대처종합.csv //c:/Users/SMHRD/원인-대처종합.csv\n",
    "# Sentiment 인스턴스 생성\n",
    "sentiment_analyzer = Sentiment()\n",
    "\n",
    "@app.route(\"/chatbot\", methods=[\"POST\"])\n",
    "def chat():\n",
    "    data = request.json\n",
    "    print(\"Received data:\", data)\n",
    "    user_nick = data.get(\"user_nick\")\n",
    "    user_input = data.get(\"input\")\n",
    "    \n",
    "    if user_input:\n",
    "        try:\n",
    "            response = chatbot.process_input(user_nick, user_input)\n",
    "            if response.get(\"isProblem\"):\n",
    "                # 형태소 분석 및 감정 분석 수행\n",
    "                sentiment_results = sentiment_analyzer.parse([user_input])\n",
    "                # 결과가 딕셔너리 형태로 바꾸고 소수점 소수점 둘쨰자리까지\n",
    "                if 'polarity' in sentiment_results and len(sentiment_results['polarity']) > 0:\n",
    "                    sentiment_results = sentiment_results['polarity'][0]\n",
    "                    sentiment_results = {key: round(value * 100, 2) for key, value in sentiment_results.items()}\n",
    "\n",
    "                response.update({\n",
    "                    \"sentiment\": sentiment_results\n",
    "                })\n",
    "\n",
    "            return jsonify(response)\n",
    "        except Exception as e:\n",
    "            print(f\"Error occurred: {str(e)}\")\n",
    "            return jsonify({\"error\": f\"An error occurred while processing your request: {str(e)}\"}), 500\n",
    "    else:\n",
    "        return jsonify({\"error\": \"No input provided\"}), 400\n",
    "\n",
    "# 타로카드 라우트\n",
    "@app.route(\"/api/interpret\",methods=[\"POST\"])\n",
    "\n",
    "def tarot_card():\n",
    "    data = request.json\n",
    "    cards = data.get(\"cards\")\n",
    "    user_input = data.get(\"user_input\")\n",
    "    user_select = data.get(\"user_select\")\n",
    "    print(\"recived data: \",data)\n",
    "    if not cards or len(cards) != 3:\n",
    "        return jsonify({\"error\": \"카드를 다시 선택해 주세요.\"}),400\n",
    "    \n",
    "    key_path = \"c:\\\\Users\\\\SMHRD\\\\api.txt\"\n",
    "    try:\n",
    "        tarot = TarotBot(api_key_path=key_path)\n",
    "        if user_input:\n",
    "            print(user_input)\n",
    "            response = tarot.interpret_cards(user_input,cards)\n",
    "        else:\n",
    "            response = tarot.general_reading(user_select,cards)\n",
    "        print(\"response: \",response.get_json())\n",
    "        return response\n",
    "\n",
    "    except Exception as e:\n",
    "        print(\"Error\",str(e))\n",
    "        return jsonify({\"error\":str(e)}),500\n",
    "\n",
    "if __name__ == \"__main__\":\n",
    "    app.run(port=7000)"
   ]
  }
 ],
 "metadata": {
  "kernelspec": {
   "display_name": "base",
   "language": "python",
   "name": "python3"
  },
  "language_info": {
   "codemirror_mode": {
    "name": "ipython",
    "version": 3
   },
   "file_extension": ".py",
   "mimetype": "text/x-python",
   "name": "python",
   "nbconvert_exporter": "python",
   "pygments_lexer": "ipython3",
   "version": "3.11.7"
  }
 },
 "nbformat": 4,
 "nbformat_minor": 2
}
