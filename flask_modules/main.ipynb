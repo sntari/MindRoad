{
 "cells": [
  {
   "cell_type": "code",
   "execution_count": 12,
   "metadata": {},
   "outputs": [
    {
     "name": "stdout",
     "output_type": "stream",
     "text": [
      " * Serving Flask app '__main__'\n",
      " * Debug mode: off\n"
     ]
    },
    {
     "name": "stderr",
     "output_type": "stream",
     "text": [
      "WARNING: This is a development server. Do not use it in a production deployment. Use a production WSGI server instead.\n",
      " * Running on http://127.0.0.1:7000\n",
      "Press CTRL+C to quit\n",
      "127.0.0.1 - - [06/Sep/2024 15:28:41] \"OPTIONS /api/interpret HTTP/1.1\" 200 -\n"
     ]
    },
    {
     "name": "stdout",
     "output_type": "stream",
     "text": [
      "recived data:  {'user_mode': '일반', 'user_select': '오늘의 운세', 'cards': ['Four of Pentacles', 'The High Priestess', 'Justice'], 'user_input': None}\n"
     ]
    },
    {
     "name": "stderr",
     "output_type": "stream",
     "text": [
      "c:\\Users\\SMHRD\\Desktop\\MindRoad - 복사본\\flask_modules\\tarot.py:54: LangChainDeprecationWarning: The class `LLMChain` was deprecated in LangChain 0.1.17 and will be removed in 1.0. Use RunnableSequence, e.g., `prompt | llm` instead.\n",
      "  general_chain = LLMChain(llm=self.model, prompt=tarot_template_genal)\n",
      "127.0.0.1 - - [06/Sep/2024 15:28:45] \"POST /api/interpret HTTP/1.1\" 200 -\n"
     ]
    },
    {
     "name": "stdout",
     "output_type": "stream",
     "text": [
      "response:  {'answer': {'cards': 'Four of Pentacles, The High Priestess, Justice', 'text': '- **Four of Pentacles**: 재정적 안정과 소유에 대한 집착\\n- **The High Priestess**: 직관과 내면의 지혜\\n- **Justice**: 공정성과 균형\\n\\n**오늘의 운세 종합 해석:**\\n오늘은 재정적 안정이 중요한 날입니다. Four of Pentacles는 당신이 자신의 자원을 지키고자 하는 강한 욕구를 나타냅니다. 그러나 The High Priestess는 내면의 지혜와 직관을 활용하여 현재의 상황을 냉철하게 판단하라는 메시지를 전달합니다. Justice 카드는 공정성과 균형을 유지하는 것이 중요함을 강조합니다. 오늘은 재정적인 결정을 내릴 때 직관을 믿고, 공정하고 균형 잡힌 태도로 접근하세요. 이렇게 하면 안정과 만족을 얻을 수 있을 것입니다.', 'user_select': '오늘의 운세'}}\n"
     ]
    },
    {
     "name": "stderr",
     "output_type": "stream",
     "text": [
      "127.0.0.1 - - [06/Sep/2024 15:37:52] \"OPTIONS /api/interpret HTTP/1.1\" 200 -\n"
     ]
    },
    {
     "name": "stdout",
     "output_type": "stream",
     "text": [
      "recived data:  {'user_mode': '일반', 'user_select': '오늘의 운세', 'cards': ['King of Pentacles', 'Two of Pentacles', 'Eight of Wands'], 'user_input': None}\n"
     ]
    },
    {
     "name": "stderr",
     "output_type": "stream",
     "text": [
      "127.0.0.1 - - [06/Sep/2024 15:37:57] \"POST /api/interpret HTTP/1.1\" 200 -\n"
     ]
    },
    {
     "name": "stdout",
     "output_type": "stream",
     "text": [
      "response:  {'answer': {'cards': 'King of Pentacles, Two of Pentacles, Eight of Wands', 'text': '- King of Pentacles: 풍요와 안정, 성공적인 재정 관리\\n- Two of Pentacles: 균형 잡기, 다중 과제 처리\\n- Eight of Wands: 빠른 진행, 신속한 변화\\n\\n**오늘의 운세 종합 해석:**\\n오늘은 재정적으로 안정되고 풍요로운 날이 될 것입니다. King of Pentacles가 나타난 것은 당신이 재정 관리를 잘하고 있다는 신호입니다. 그러나 Two of Pentacles는 여러 가지 일을 동시에 처리해야 할 상황을 나타내며, 균형을 유지하는 것이 중요합니다. Eight of Wands는 빠른 변화와 진전을 의미하므로, 오늘은 일들이 순조롭고 빠르게 진행될 것입니다. 총체적으로, 오늘은 성공적이고 바쁜 하루가 될 것이니 준비된 마음가짐으로 임하세요.', 'user_select': '오늘의 운세'}}\n"
     ]
    },
    {
     "name": "stderr",
     "output_type": "stream",
     "text": [
      "127.0.0.1 - - [06/Sep/2024 15:38:02] \"OPTIONS /api/interpret HTTP/1.1\" 200 -\n"
     ]
    },
    {
     "name": "stdout",
     "output_type": "stream",
     "text": [
      "recived data:  {'user_mode': '일반', 'user_select': '직장', 'cards': ['Nine of Wands', 'Knight of Cups', 'Nine of Swords'], 'user_input': None}\n"
     ]
    },
    {
     "name": "stderr",
     "output_type": "stream",
     "text": [
      "127.0.0.1 - - [06/Sep/2024 15:38:05] \"POST /api/interpret HTTP/1.1\" 200 -\n"
     ]
    },
    {
     "name": "stdout",
     "output_type": "stream",
     "text": [
      "response:  {'answer': {'cards': 'Nine of Wands, Knight of Cups, Nine of Swords', 'text': '- Nine of Wands: 끈질기게 버티는 자세\\n- Knight of Cups: 창의적이고 감성적인 접근\\n- Nine of Swords: 걱정과 불안\\n\\n종합 해석:\\n현재 직장에서 당신은 많은 어려움과 도전에 직면해 있지만, 끈질기게 버티고 있습니다(Nine of Wands). 이 과정에서 창의적이고 감성적인 접근이 필요하며(Knight of Cups), 이는 당신이 직면한 문제를 해결하는 데 도움이 될 수 있습니다. 그러나 이러한 상황은 당신에게 많은 걱정과 불안을 초래하고 있습니다(Nine of Swords). 당신의 감정을 잘 다스리고, 필요한 경우 주위의 지원을 받는 것이 중요합니다.', 'user_select': '직장'}}\n"
     ]
    },
    {
     "name": "stderr",
     "output_type": "stream",
     "text": [
      "127.0.0.1 - - [06/Sep/2024 15:38:29] \"OPTIONS /api/interpret HTTP/1.1\" 200 -\n"
     ]
    },
    {
     "name": "stdout",
     "output_type": "stream",
     "text": [
      "recived data:  {'user_mode': '일반', 'user_select': '오늘의 운세', 'cards': ['King of Swords', 'The Emperor', 'Two of Cups'], 'user_input': None}\n"
     ]
    },
    {
     "name": "stderr",
     "output_type": "stream",
     "text": [
      "127.0.0.1 - - [06/Sep/2024 15:38:32] \"POST /api/interpret HTTP/1.1\" 200 -\n"
     ]
    },
    {
     "name": "stdout",
     "output_type": "stream",
     "text": [
      "response:  {'answer': {'cards': 'King of Swords, The Emperor, Two of Cups', 'text': '카드 의미:\\n- King of Swords: 지혜롭고 공정한 판단\\n- The Emperor: 권위와 안정\\n- Two of Cups: 조화로운 파트너십\\n\\n오늘의 운세 종합 해석:\\n오늘은 지혜로운 판단력과 공정함이 필요한 날입니다. 당신의 권위와 리더십이 빛을 발하며, 안정된 기반을 제공할 수 있습니다. 또한, 중요한 관계에서 조화와 협력이 강조됩니다. 개인적이든 직업적이든, 파트너와의 협력이 성공의 열쇠가 될 것입니다. 서로의 의견을 존중하며 공동의 목표를 향해 나아간다면, 기대 이상의 성과를 거둘 수 있을 것입니다.', 'user_select': '오늘의 운세'}}\n"
     ]
    },
    {
     "name": "stderr",
     "output_type": "stream",
     "text": [
      "127.0.0.1 - - [06/Sep/2024 15:38:47] \"OPTIONS /api/interpret HTTP/1.1\" 200 -\n"
     ]
    },
    {
     "name": "stdout",
     "output_type": "stream",
     "text": [
      "recived data:  {'user_mode': '일반', 'user_select': '금전', 'cards': ['King of Wands', 'Justice', 'The High Priestess'], 'user_input': None}\n"
     ]
    },
    {
     "name": "stderr",
     "output_type": "stream",
     "text": [
      "127.0.0.1 - - [06/Sep/2024 15:38:51] \"POST /api/interpret HTTP/1.1\" 200 -\n"
     ]
    },
    {
     "name": "stdout",
     "output_type": "stream",
     "text": [
      "response:  {'answer': {'cards': 'King of Wands, Justice, The High Priestess', 'text': '**카드 의미 한줄 요약:**\\n- **King of Wands**: 리더십과 결단력\\n- **Justice**: 공정성과 균형\\n- **The High Priestess**: 직관과 숨겨진 지식\\n\\n**금전 주제 종합 해석:**\\n금전 문제에 있어서, 리더십과 결단력을 발휘해야 할 시기입니다. King of Wands는 당신이 주도적으로 상황을 이끌어 나가야 한다는 것을 의미합니다. Justice 카드는 모든 결정을 공정하고 균형 있게 내릴 필요가 있음을 상기시킵니다. 재정적인 판단을 할 때 감정에 치우치지 않고 객관적으로 접근하는 것이 중요합니다. The High Priestess는 직관과 내면의 지혜를 활용해 숨겨진 정보를 찾아내고 이를 바탕으로 현명한 결정을 내릴 것을 권장합니다. 따라서, 금전적인 문제를 해결하기 위해서는 리더십과 결단력을 가지고 공정성을 유지하면서도, 직관을 신뢰하는 것이 중요합니다.', 'user_select': '금전'}}\n"
     ]
    },
    {
     "name": "stderr",
     "output_type": "stream",
     "text": [
      "127.0.0.1 - - [06/Sep/2024 16:03:14] \"OPTIONS /api/interpret HTTP/1.1\" 200 -\n"
     ]
    },
    {
     "name": "stdout",
     "output_type": "stream",
     "text": [
      "recived data:  {'user_mode': '일반', 'user_select': '연애', 'cards': ['Five of Wands', 'Three of Pentacles', 'The Fool'], 'user_input': None}\n"
     ]
    },
    {
     "name": "stderr",
     "output_type": "stream",
     "text": [
      "127.0.0.1 - - [06/Sep/2024 16:03:17] \"POST /api/interpret HTTP/1.1\" 200 -\n"
     ]
    },
    {
     "name": "stdout",
     "output_type": "stream",
     "text": [
      "response:  {'answer': {'cards': 'Five of Wands, Three of Pentacles, The Fool', 'text': '**카드 의미 한줄 요약:**\\n- **Five of Wands**: 충돌과 경쟁\\n- **Three of Pentacles**: 협력과 팀워크\\n- **The Fool**: 새로운 시작과 모험\\n\\n**연애 주제 종합 해석:**\\n현재 당신의 연애 상황에서는 갈등이나 경쟁이 있을 수 있습니다(Five of Wands). 그러나 이러한 문제를 해결하기 위해서는 상호 협력과 팀워크가 중요합니다(Three of Pentacles). 새로운 시작을 두려워하지 말고, 용기 있게 모험을 떠나는 자세가 필요합니다(The Fool). 이러한 태도로 접근하면 관계가 긍정적으로 발전할 가능성이 큽니다. 새로운 기회를 받아들이고, 서로의 의견을 존중하며 협력하는 자세가 성공적인 연애를 이어나가는 열쇠입니다.', 'user_select': '연애'}}\n"
     ]
    }
   ],
   "source": [
    "from flask import Flask, request, jsonify\n",
    "from flask_cors import CORS\n",
    "from chatbot import ChatBot, load_api_key\n",
    "from OktSentiment import Sentiment\n",
    "from tarot import TarotBot\n",
    "\n",
    "app = Flask(__name__)\n",
    "CORS(app)\n",
    "\n",
    "# ChatBot 인스턴스 생성\n",
    "api_key = load_api_key()\n",
    "if not api_key:\n",
    "    raise ValueError(\"API key not found or invalid. Please check your api_key.txt file.\")\n",
    "chatbot = ChatBot(api_key, \"C:\\\\Users\\\\SMHRD\\\\Desktop\\\\유형,대처,유형설명(마카님 삭제).csv\")  # CSV 파일 경로를 적절히 수정하세요\n",
    "#C:\\Users\\SMHRD\\Documents\\카카오톡 받은 파일\\원인-대처종합.csv //c:/Users/SMHRD/원인-대처종합.csv\n",
    "# Sentiment 인스턴스 생성\n",
    "sentiment_analyzer = Sentiment()\n",
    "\n",
    "@app.route(\"/chatbot\", methods=[\"POST\"])\n",
    "def chat():\n",
    "    data = request.json\n",
    "    print(\"Received data:\", data)\n",
    "    user_nick = data.get(\"user_nick\")\n",
    "    user_input = data.get(\"input\")\n",
    "    \n",
    "    if user_input:\n",
    "        try:\n",
    "            response = chatbot.process_input(user_nick, user_input)\n",
    "            if response.get(\"isProblem\"):\n",
    "                # 형태소 분석 및 감정 분석 수행\n",
    "                sentiment_results = sentiment_analyzer.parse([user_input])\n",
    "                # 결과가 딕셔너리 형태로 바꾸고 소수점 소수점 둘쨰자리까지\n",
    "                if 'polarity' in sentiment_results and len(sentiment_results['polarity']) > 0:\n",
    "                    sentiment_results = sentiment_results['polarity'][0]\n",
    "                    sentiment_results = {key: round(value * 100, 2) for key, value in sentiment_results.items()}\n",
    "\n",
    "                response.update({\n",
    "                    \"sentiment\": sentiment_results\n",
    "                })\n",
    "\n",
    "            return jsonify(response)\n",
    "        except Exception as e:\n",
    "            print(f\"Error occurred: {str(e)}\")\n",
    "            return jsonify({\"error\": f\"An error occurred while processing your request: {str(e)}\"}), 500\n",
    "    else:\n",
    "        return jsonify({\"error\": \"No input provided\"}), 400\n",
    "\n",
    "# 타로카드 라우트\n",
    "@app.route(\"/api/interpret\",methods=[\"POST\"])\n",
    "\n",
    "def tarot_card():\n",
    "    data = request.json\n",
    "    cards = data.get(\"cards\")\n",
    "    user_input = data.get(\"user_input\")\n",
    "    user_select = data.get(\"user_select\")\n",
    "    print(\"recived data: \",data)\n",
    "    if not cards or len(cards) != 3:\n",
    "        return jsonify({\"error\": \"카드를 다시 선택해 주세요.\"}),400\n",
    "    \n",
    "    key_path = \"c:/Users/SMHRD/api.txt\"\n",
    "    try:\n",
    "        tarot = TarotBot(api_key_path=key_path)\n",
    "        if user_input:\n",
    "            print(user_input)\n",
    "            response = tarot.interpret_cards(user_input,cards)\n",
    "        else:\n",
    "            response = tarot.general_reading(user_select,cards)\n",
    "        print(\"response: \",response.get_json())\n",
    "        return response\n",
    "\n",
    "    except Exception as e:\n",
    "        print(\"Error\",str(e))\n",
    "        return jsonify({\"error\":str(e)}),500\n",
    "\n",
    "if __name__ == \"__main__\":\n",
    "    app.run(port=7000)  "
   ]
  },
  {
   "cell_type": "code",
   "execution_count": null,
   "metadata": {},
   "outputs": [],
   "source": []
  }
 ],
 "metadata": {
  "kernelspec": {
   "display_name": "base",
   "language": "python",
   "name": "python3"
  },
  "language_info": {
   "codemirror_mode": {
    "name": "ipython",
    "version": 3
   },
   "file_extension": ".py",
   "mimetype": "text/x-python",
   "name": "python",
   "nbconvert_exporter": "python",
   "pygments_lexer": "ipython3",
   "version": "3.12.4"
  }
 },
 "nbformat": 4,
 "nbformat_minor": 2
}
