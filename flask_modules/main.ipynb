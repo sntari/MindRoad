{
 "cells": [
  {
   "cell_type": "code",
   "execution_count": 4,
   "metadata": {},
   "outputs": [
    {
     "name": "stdout",
     "output_type": "stream",
     "text": [
      " * Serving Flask app '__main__'\n",
      " * Debug mode: off\n"
     ]
    },
    {
     "name": "stderr",
     "output_type": "stream",
     "text": [
      "WARNING: This is a development server. Do not use it in a production deployment. Use a production WSGI server instead.\n",
      " * Running on http://127.0.0.1:7000\n",
      "Press CTRL+C to quit\n",
      "127.0.0.1 - - [04/Sep/2024 17:48:05] \"OPTIONS /chatbot HTTP/1.1\" 200 -\n"
     ]
    },
    {
     "name": "stdout",
     "output_type": "stream",
     "text": [
      "Received data: {'user_nick': '12', 'input': '취업준비가 너무 힘들다'}\n",
      "Processing input: user_nick=12, user_input=취업준비가 너무 힘들다\n",
      "Is problem flag: True\n",
      "고민임\n"
     ]
    },
    {
     "name": "stderr",
     "output_type": "stream",
     "text": [
      "127.0.0.1 - - [04/Sep/2024 17:48:07] \"POST /chatbot HTTP/1.1\" 200 -\n"
     ]
    },
    {
     "name": "stdout",
     "output_type": "stream",
     "text": [
      "Extracted reason: '취업/진로'\n",
      "Problem reason: 취업/진로\n",
      "정렬된 형태소 분석 결과: ['취업/NNG', '준비/NNG', '가/JKS', '너무/MAG', '힘들다/VA']\n"
     ]
    }
   ],
   "source": [
    "from flask import Flask, request, jsonify\n",
    "from flask_cors import CORS\n",
    "from chatbot import ChatBot, load_api_key\n",
    "from OktSentiment import Sentiment\n",
    "from tarot import TarotBot\n",
    "\n",
    "app = Flask(__name__)\n",
    "CORS(app)\n",
    "\n",
    "# ChatBot 인스턴스 생성\n",
    "api_key = load_api_key()\n",
    "if not api_key:\n",
    "    raise ValueError(\"API key not found or invalid. Please check your api_key.txt file.\")\n",
    "chatbot = ChatBot(api_key, 'c:/Users/SMHRD/원인-대처종합.csv')  # CSV 파일 경로를 적절히 수정하세요\n",
    "#C:\\Users\\SMHRD\\Documents\\카카오톡 받은 파일\\원인-대처종합.csv //c:/Users/SMHRD/원인-대처종합.csv\n",
    "# Sentiment 인스턴스 생성\n",
    "sentiment_analyzer = Sentiment()\n",
    "\n",
    "@app.route(\"/chatbot\", methods=[\"POST\"])\n",
    "def chat():\n",
    "    data = request.json\n",
    "    print(\"Received data:\", data)\n",
    "    user_nick = data.get(\"user_nick\")\n",
    "    user_input = data.get(\"input\")\n",
    "    \n",
    "    if user_input:\n",
    "        try:\n",
    "            response = chatbot.process_input(user_nick, user_input)\n",
    "            if response.get(\"isProblem\"):\n",
    "                # 형태소 분석 및 감정 분석 수행\n",
    "                sentiment_results = sentiment_analyzer.parse([user_input])\n",
    "                # 결과가 딕셔너리 형태로 바꾸고 소수점 소수점 둘쨰자리까지\n",
    "                if 'polarity' in sentiment_results and len(sentiment_results['polarity']) > 0:\n",
    "                    sentiment_results = sentiment_results['polarity'][0]\n",
    "                    sentiment_results = {key: round(value * 100, 2) for key, value in sentiment_results.items()}\n",
    "\n",
    "                response.update({\n",
    "                    \"sentiment\": sentiment_results\n",
    "                })\n",
    "\n",
    "            return jsonify(response)\n",
    "        except Exception as e:\n",
    "            print(f\"Error occurred: {str(e)}\")\n",
    "            return jsonify({\"error\": f\"An error occurred while processing your request: {str(e)}\"}), 500\n",
    "    else:\n",
    "        return jsonify({\"error\": \"No input provided\"}), 400\n",
    "\n",
    "# 타로카드 라우트\n",
    "@app.route(\"/api/interpret\",methods=[\"POST\"])\n",
    "\n",
    "def tarot_card():\n",
    "    data = request.json\n",
    "    cards = data.get(\"cards\")\n",
    "    user_input = data.get(\"user_input\")\n",
    "    user_select = data.get(\"user_select\")\n",
    "    print(\"recived data: \",data)\n",
    "    if not cards or len(cards) != 3:\n",
    "        return jsonify({\"error\": \"카드를 다시 선택해 주세요.\"}),400\n",
    "    \n",
    "    key_path = \"c:\\\\Users\\\\SMHRD\\\\api.txt\"\n",
    "    try:\n",
    "        tarot = TarotBot(api_key_path=key_path)\n",
    "        if user_input:\n",
    "            print(user_input)\n",
    "            response = tarot.interpret_cards(user_input,cards)\n",
    "        else:\n",
    "            response = tarot.general_reading(user_select,cards)\n",
    "        print(\"response: \",response.get_json())\n",
    "        return response\n",
    "\n",
    "    except Exception as e:\n",
    "        print(\"Error\",str(e))\n",
    "        return jsonify({\"error\":str(e)}),500\n",
    "\n",
    "if __name__ == \"__main__\":\n",
    "    app.run(port=7000)"
   ]
  }
 ],
 "metadata": {
  "kernelspec": {
   "display_name": "base",
   "language": "python",
   "name": "python3"
  },
  "language_info": {
   "codemirror_mode": {
    "name": "ipython",
    "version": 3
   },
   "file_extension": ".py",
   "mimetype": "text/x-python",
   "name": "python",
   "nbconvert_exporter": "python",
   "pygments_lexer": "ipython3",
   "version": "3.11.7"
  }
 },
 "nbformat": 4,
 "nbformat_minor": 2
}
