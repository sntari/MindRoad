{
 "cells": [
  {
   "cell_type": "code",
<<<<<<< HEAD
   "execution_count": 5,
=======
   "execution_count": 12,
>>>>>>> 961eaae6fa90b66b0648c971d5d1bef31d6897e9
   "metadata": {},
   "outputs": [
    {
     "name": "stderr",
     "output_type": "stream",
     "text": [
<<<<<<< HEAD
      "c:\\Users\\SMHRD\\anaconda3\\Lib\\site-packages\\transformers\\tokenization_utils_base.py:1601: FutureWarning: `clean_up_tokenization_spaces` was not set. It will be set to `True` by default. This behavior will be depracted in transformers v4.45, and will be then set to `False` by default. For more details check this issue: https://github.com/huggingface/transformers/issues/31884\n",
=======
      "c:\\Python312\\Lib\\site-packages\\transformers\\tokenization_utils_base.py:1601: FutureWarning: `clean_up_tokenization_spaces` was not set. It will be set to `True` by default. This behavior will be depracted in transformers v4.45, and will be then set to `False` by default. For more details check this issue: https://github.com/huggingface/transformers/issues/31884\n",
>>>>>>> 961eaae6fa90b66b0648c971d5d1bef31d6897e9
      "  warnings.warn(\n"
     ]
    },
    {
     "name": "stdout",
     "output_type": "stream",
     "text": [
      " * Serving Flask app '__main__'\n",
      " * Debug mode: off\n"
     ]
    },
    {
     "name": "stderr",
     "output_type": "stream",
     "text": [
      "WARNING: This is a development server. Do not use it in a production deployment. Use a production WSGI server instead.\n",
      " * Running on http://127.0.0.1:7000\n",
      "Press CTRL+C to quit\n",
<<<<<<< HEAD
      "127.0.0.1 - - [09/Sep/2024 16:29:53] \"OPTIONS /chatbot HTTP/1.1\" 200 -\n"
=======
      "127.0.0.1 - - [09/Sep/2024 14:43:56] \"OPTIONS /api/interpret HTTP/1.1\" 200 -\n"
>>>>>>> 961eaae6fa90b66b0648c971d5d1bef31d6897e9
     ]
    },
    {
     "name": "stdout",
     "output_type": "stream",
     "text": [
<<<<<<< HEAD
      "Received data: {'user_nick': '12', 'input': '난 지룬이야'}\n",
      "Processing input: user_nick=12, user_input=난 지룬이야\n"
     ]
    },
    {
     "name": "stderr",
     "output_type": "stream",
     "text": [
      "127.0.0.1 - - [09/Sep/2024 16:29:57] \"POST /chatbot HTTP/1.1\" 200 -\n"
     ]
    },
    {
     "name": "stdout",
     "output_type": "stream",
     "text": [
      "Error processing input: Error code: 429 - {'error': {'message': 'You exceeded your current quota, please check your plan and billing details. For more information on this error, read the docs: https://platform.openai.com/docs/guides/error-codes/api-errors.', 'type': 'insufficient_quota', 'param': None, 'code': 'insufficient_quota'}}\n"
     ]
    },
    {
     "name": "stderr",
     "output_type": "stream",
     "text": [
      "127.0.0.1 - - [09/Sep/2024 16:35:35] \"OPTIONS /chatbot HTTP/1.1\" 200 -\n"
     ]
    },
    {
     "name": "stdout",
     "output_type": "stream",
     "text": [
      "Received data: {'user_nick': '12', 'input': '지룬이'}\n",
      "Processing input: user_nick=12, user_input=지룬이\n",
      "Is problem flag: False\n"
     ]
    },
    {
     "name": "stderr",
     "output_type": "stream",
     "text": [
      "127.0.0.1 - - [09/Sep/2024 16:35:41] \"POST /chatbot HTTP/1.1\" 200 -\n",
      "127.0.0.1 - - [09/Sep/2024 17:15:24] \"OPTIONS /chatbot HTTP/1.1\" 200 -\n"
     ]
    },
    {
     "name": "stdout",
     "output_type": "stream",
     "text": [
      "Received data: {'user_nick': '12', 'input': 'ㅎㅇ'}\n",
      "Processing input: user_nick=12, user_input=ㅎㅇ\n",
      "Is problem flag: False\n"
     ]
    },
    {
     "name": "stderr",
     "output_type": "stream",
     "text": [
      "127.0.0.1 - - [09/Sep/2024 17:15:27] \"POST /chatbot HTTP/1.1\" 200 -\n",
      "127.0.0.1 - - [09/Sep/2024 17:47:22] \"OPTIONS /api/interpret HTTP/1.1\" 200 -\n"
     ]
    },
    {
     "name": "stdout",
     "output_type": "stream",
     "text": [
      "recived data:  {'user_mode': '일반', 'user_select': '금전', 'cards': ['Ace of Wands', 'Eight of Pentacles', 'King of Swords'], 'user_input': None}\n",
=======
      "recived data:  {'user_mode': '일반', 'user_select': '오늘의 운세', 'cards': ['Queen of Pentacles', 'Five of Cups', 'Nine of Pentacles'], 'user_input': None}\n",
>>>>>>> 961eaae6fa90b66b0648c971d5d1bef31d6897e9
      "None\n"
     ]
    },
    {
     "name": "stderr",
     "output_type": "stream",
     "text": [
<<<<<<< HEAD
      "127.0.0.1 - - [09/Sep/2024 17:47:25] \"POST /api/interpret HTTP/1.1\" 200 -\n"
=======
      "127.0.0.1 - - [09/Sep/2024 14:44:00] \"POST /api/interpret HTTP/1.1\" 500 -\n"
>>>>>>> 961eaae6fa90b66b0648c971d5d1bef31d6897e9
     ]
    },
    {
     "name": "stdout",
     "output_type": "stream",
     "text": [
<<<<<<< HEAD
      "response:  {'answer': {'cards': 'Ace of Wands, Eight of Pentacles, King of Swords', 'text': '### 카드 의미 한줄 요약:\\n- **Ace of Wands**: 새로운 기회와 열정의 시작\\n- **Eight of Pentacles**: 열심히 일하고 기술을 연마함\\n- **King of Swords**: 논리적 사고와 명확한 판단\\n\\n### 금전 주제 종합 해석:\\n금전적으로 새로운 기회가 다가오고 있으며, 이를 활용하기 위해서는 열심히 일하고 자신의 기술을 연마하는 것이 중요합니다. 특히, King of Swords는 논리적 사고와 명확한 판단이 필요함을 강조합니다. 이 카드는 재정적인 결정을 내릴 때 감정에 휘둘리지 않고 객관적이고 이성적으로 접근해야 한다는 메시지를 전달합니다. 따라서, 새로운 기회를 최대한 활용하고 지속적인 노력과 명확한 전략을 통해 금전적으로 안정된 미래를 구축할 수 있을 것입니다.', 'user_select': '금전'}}\n"
     ]
    },
    {
     "name": "stderr",
     "output_type": "stream",
     "text": [
      "127.0.0.1 - - [10/Sep/2024 14:36:05] \"OPTIONS /chatbot HTTP/1.1\" 200 -\n"
     ]
    },
    {
     "name": "stdout",
     "output_type": "stream",
     "text": [
      "Received data: {'user_nick': '12', 'input': '취업준비가 힘들다'}\n",
      "Processing input: user_nick=12, user_input=취업준비가 힘들다\n",
      "Is problem flag: True\n",
      "고민임\n",
      "Extracted reason: '취업/진로'\n",
      "Problem reason: 취업/진로\n",
      "reference : 님께서 왜 내가 취업이 이렇게 싫은지, 취업이라고 하면 떠오르는 이미지는 무엇인지에 대해 먼저 정리해 보시면 좋을 것 같습니다. 나에게 취업이란, 직장이란, 어떤 느낌이기에 좋은 조건의 면접이 와도 가고 싶지 않은 마음이 드는지, 가지 않기로 결정했을 때 어떤 감정들이 들었는지요.  하고 싶지 않은 마음에 대해 스스로를 비난하거나 채찍질을 하는 것이 아니라, 이렇게 불안함에도 불구하고, 취준 생활이 길어지는 것이 답답함에도 불구하고, 왜 나는 면접을 가고 싶지 않은지, 왜 일을 시작하고 싶지 않은지, 왜 돈을 벌고 싶지 않은지에 대해 그 이유를 찬찬히, 조심스럽게 들여다 보시는 것이 필요합니다.  이 과정이 필요한 건, 지금의   님께서 자격증도 따고, 이력서도 넣었음에도 불구하고 그 마지막 스텝이 내딛어지지 않는, 그 이유를 알게 되어야 그 부분에 대한 대처 방법도 마련할 수 있기 때문이에요. 우울감으로 무언가를 시작하기에 기력이 없는 것인지, 새로운 시작이 두려운 것인지, 낯선 사람과 만나는 게 버거운지... 등에 대해 솔직하게 내 마음을 들여다 봐 주세요.\n"
     ]
    },
    {
     "name": "stderr",
     "output_type": "stream",
     "text": [
      "127.0.0.1 - - [10/Sep/2024 14:36:28] \"POST /chatbot HTTP/1.1\" 200 -\n"
     ]
    },
    {
     "name": "stdout",
     "output_type": "stream",
     "text": [
      "정렬된 형태소 분석 결과: ['취업/NNG', '준비/NNG', '가/JKS', '힘들다/VA']\n"
     ]
    },
    {
     "name": "stderr",
     "output_type": "stream",
     "text": [
      "127.0.0.1 - - [10/Sep/2024 14:44:36] \"OPTIONS /chatbot HTTP/1.1\" 200 -\n"
     ]
    },
    {
     "name": "stdout",
     "output_type": "stream",
     "text": [
      "Received data: {'user_nick': '1', 'input': '취업준비가 너무 힘들어요'}\n",
      "Processing input: user_nick=1, user_input=취업준비가 너무 힘들어요\n",
      "Is problem flag: True\n",
      "고민임\n",
      "Extracted reason: '취업/진로'\n",
      "Problem reason: 취업/진로\n",
      "reference : 님께서 왜 내가 취업이 이렇게 싫은지, 취업이라고 하면 떠오르는 이미지는 무엇인지에 대해 먼저 정리해 보시면 좋을 것 같습니다. 나에게 취업이란, 직장이란, 어떤 느낌이기에 좋은 조건의 면접이 와도 가고 싶지 않은 마음이 드는지, 가지 않기로 결정했을 때 어떤 감정들이 들었는지요.  하고 싶지 않은 마음에 대해 스스로를 비난하거나 채찍질을 하는 것이 아니라, 이렇게 불안함에도 불구하고, 취준 생활이 길어지는 것이 답답함에도 불구하고, 왜 나는 면접을 가고 싶지 않은지, 왜 일을 시작하고 싶지 않은지, 왜 돈을 벌고 싶지 않은지에 대해 그 이유를 찬찬히, 조심스럽게 들여다 보시는 것이 필요합니다.  이 과정이 필요한 건, 지금의   님께서 자격증도 따고, 이력서도 넣었음에도 불구하고 그 마지막 스텝이 내딛어지지 않는, 그 이유를 알게 되어야 그 부분에 대한 대처 방법도 마련할 수 있기 때문이에요. 우울감으로 무언가를 시작하기에 기력이 없는 것인지, 새로운 시작이 두려운 것인지, 낯선 사람과 만나는 게 버거운지... 등에 대해 솔직하게 내 마음을 들여다 봐 주세요.\n"
     ]
    },
    {
     "name": "stderr",
     "output_type": "stream",
     "text": [
      "127.0.0.1 - - [10/Sep/2024 14:44:56] \"POST /chatbot HTTP/1.1\" 200 -\n"
     ]
    },
    {
     "name": "stdout",
     "output_type": "stream",
     "text": [
      "정렬된 형태소 분석 결과: ['취업/NNG', '준비/NNG', '가/JKS', '너무/MAG', '힘들어요/VA']\n"
     ]
    },
    {
     "name": "stderr",
     "output_type": "stream",
     "text": [
      "127.0.0.1 - - [10/Sep/2024 14:47:55] \"OPTIONS /chatbot HTTP/1.1\" 200 -\n"
     ]
    },
    {
     "name": "stdout",
     "output_type": "stream",
     "text": [
      "Received data: {'user_nick': '1', 'input': '취업준비가 고민이야'}\n",
      "Processing input: user_nick=1, user_input=취업준비가 고민이야\n",
      "Is problem flag: True\n",
      "고민임\n",
      "Extracted reason: '취업/진로'\n",
      "Problem reason: 취업/진로\n",
      "reference : 님께서 왜 내가 취업이 이렇게 싫은지, 취업이라고 하면 떠오르는 이미지는 무엇인지에 대해 먼저 정리해 보시면 좋을 것 같습니다. 나에게 취업이란, 직장이란, 어떤 느낌이기에 좋은 조건의 면접이 와도 가고 싶지 않은 마음이 드는지, 가지 않기로 결정했을 때 어떤 감정들이 들었는지요.  하고 싶지 않은 마음에 대해 스스로를 비난하거나 채찍질을 하는 것이 아니라, 이렇게 불안함에도 불구하고, 취준 생활이 길어지는 것이 답답함에도 불구하고, 왜 나는 면접을 가고 싶지 않은지, 왜 일을 시작하고 싶지 않은지, 왜 돈을 벌고 싶지 않은지에 대해 그 이유를 찬찬히, 조심스럽게 들여다 보시는 것이 필요합니다.  이 과정이 필요한 건, 지금의   님께서 자격증도 따고, 이력서도 넣었음에도 불구하고 그 마지막 스텝이 내딛어지지 않는, 그 이유를 알게 되어야 그 부분에 대한 대처 방법도 마련할 수 있기 때문이에요. 우울감으로 무언가를 시작하기에 기력이 없는 것인지, 새로운 시작이 두려운 것인지, 낯선 사람과 만나는 게 버거운지... 등에 대해 솔직하게 내 마음을 들여다 봐 주세요.\n"
     ]
    },
    {
     "name": "stderr",
     "output_type": "stream",
     "text": [
      "127.0.0.1 - - [10/Sep/2024 14:48:15] \"POST /chatbot HTTP/1.1\" 200 -\n"
     ]
    },
    {
     "name": "stdout",
     "output_type": "stream",
     "text": [
      "정렬된 형태소 분석 결과: ['취업/NNG', '준비/NNG', '가/JKS', '고민/NNG', '이야/JKS']\n"
     ]
    },
    {
     "name": "stderr",
     "output_type": "stream",
     "text": [
      "127.0.0.1 - - [10/Sep/2024 14:48:45] \"OPTIONS /chatbot HTTP/1.1\" 200 -\n"
     ]
    },
    {
     "name": "stdout",
     "output_type": "stream",
     "text": [
      "Received data: {'user_nick': '1', 'input': 'ㅇㅇㅇㅇㅇㅇㅇㅇㅇㅇㅇㅇㅇㅇㅇㅇㅇㅇㅇㅇㅇㅇㅇㅇㅇㅇㅇㅇㅇㅇㅇㅇㅇㅇㅇㅇㅇㅇㅇㅇㅇㅇㅇㅇㅇㅇㅇㅇㅇㅇㅇㅇㅇㅇㅇㅇㅇㅇㅇㅇㅇ'}\n",
      "Processing input: user_nick=1, user_input=ㅇㅇㅇㅇㅇㅇㅇㅇㅇㅇㅇㅇㅇㅇㅇㅇㅇㅇㅇㅇㅇㅇㅇㅇㅇㅇㅇㅇㅇㅇㅇㅇㅇㅇㅇㅇㅇㅇㅇㅇㅇㅇㅇㅇㅇㅇㅇㅇㅇㅇㅇㅇㅇㅇㅇㅇㅇㅇㅇㅇㅇ\n",
      "Is problem flag: False\n"
     ]
    },
    {
     "name": "stderr",
     "output_type": "stream",
     "text": [
      "127.0.0.1 - - [10/Sep/2024 14:48:49] \"POST /chatbot HTTP/1.1\" 200 -\n",
      "127.0.0.1 - - [10/Sep/2024 15:15:42] \"OPTIONS /chatbot HTTP/1.1\" 200 -\n"
     ]
    },
    {
     "name": "stdout",
     "output_type": "stream",
     "text": [
      "Received data: {'user_nick': '1', 'input': '취업이 너무 힘들어요'}\n",
      "Processing input: user_nick=1, user_input=취업이 너무 힘들어요\n",
      "Is problem flag: True\n",
      "고민임\n",
      "Extracted reason: '취업/진로'\n",
      "Problem reason: 취업/진로\n",
      "reference : 님께서 왜 내가 취업이 이렇게 싫은지, 취업이라고 하면 떠오르는 이미지는 무엇인지에 대해 먼저 정리해 보시면 좋을 것 같습니다. 나에게 취업이란, 직장이란, 어떤 느낌이기에 좋은 조건의 면접이 와도 가고 싶지 않은 마음이 드는지, 가지 않기로 결정했을 때 어떤 감정들이 들었는지요.  하고 싶지 않은 마음에 대해 스스로를 비난하거나 채찍질을 하는 것이 아니라, 이렇게 불안함에도 불구하고, 취준 생활이 길어지는 것이 답답함에도 불구하고, 왜 나는 면접을 가고 싶지 않은지, 왜 일을 시작하고 싶지 않은지, 왜 돈을 벌고 싶지 않은지에 대해 그 이유를 찬찬히, 조심스럽게 들여다 보시는 것이 필요합니다.  이 과정이 필요한 건, 지금의   님께서 자격증도 따고, 이력서도 넣었음에도 불구하고 그 마지막 스텝이 내딛어지지 않는, 그 이유를 알게 되어야 그 부분에 대한 대처 방법도 마련할 수 있기 때문이에요. 우울감으로 무언가를 시작하기에 기력이 없는 것인지, 새로운 시작이 두려운 것인지, 낯선 사람과 만나는 게 버거운지... 등에 대해 솔직하게 내 마음을 들여다 봐 주세요.\n"
     ]
    },
    {
     "name": "stderr",
     "output_type": "stream",
     "text": [
      "127.0.0.1 - - [10/Sep/2024 15:16:03] \"POST /chatbot HTTP/1.1\" 200 -\n"
     ]
    },
    {
     "name": "stdout",
     "output_type": "stream",
     "text": [
      "정렬된 형태소 분석 결과: ['취업/NNG', '이/JKS', '너무/MAG', '힘들어요/VA']\n"
     ]
    },
    {
     "name": "stderr",
     "output_type": "stream",
     "text": [
      "127.0.0.1 - - [10/Sep/2024 15:17:59] \"OPTIONS /chatbot HTTP/1.1\" 200 -\n"
     ]
    },
    {
     "name": "stdout",
     "output_type": "stream",
     "text": [
      "Received data: {'user_nick': '1', 'input': '안녕'}\n",
      "Processing input: user_nick=1, user_input=안녕\n",
      "Is problem flag: False\n"
     ]
    },
    {
     "name": "stderr",
     "output_type": "stream",
     "text": [
      "127.0.0.1 - - [10/Sep/2024 15:18:02] \"POST /chatbot HTTP/1.1\" 200 -\n",
      "127.0.0.1 - - [10/Sep/2024 15:18:19] \"OPTIONS /chatbot HTTP/1.1\" 200 -\n"
     ]
    },
    {
     "name": "stdout",
     "output_type": "stream",
     "text": [
      "Received data: {'user_nick': '1', 'input': '안녕'}\n",
      "Processing input: user_nick=1, user_input=안녕\n",
      "Is problem flag: False\n"
     ]
    },
    {
     "name": "stderr",
     "output_type": "stream",
     "text": [
      "127.0.0.1 - - [10/Sep/2024 15:18:22] \"POST /chatbot HTTP/1.1\" 200 -\n",
      "127.0.0.1 - - [10/Sep/2024 15:30:50] \"OPTIONS /chatbot HTTP/1.1\" 200 -\n"
     ]
    },
    {
     "name": "stdout",
     "output_type": "stream",
     "text": [
      "Received data: {'user_nick': '1', 'input': 'ㅎㅇ'}\n",
      "Processing input: user_nick=1, user_input=ㅎㅇ\n",
      "Is problem flag: False\n"
     ]
    },
    {
     "name": "stderr",
     "output_type": "stream",
     "text": [
      "127.0.0.1 - - [10/Sep/2024 15:30:54] \"POST /chatbot HTTP/1.1\" 200 -\n",
      "127.0.0.1 - - [10/Sep/2024 15:37:40] \"OPTIONS /chatbot HTTP/1.1\" 200 -\n"
     ]
    },
    {
     "name": "stdout",
     "output_type": "stream",
     "text": [
      "Received data: {'user_nick': '1', 'input': '취업준비가 고민이에요'}\n",
      "Processing input: user_nick=1, user_input=취업준비가 고민이에요\n",
      "Is problem flag: True\n",
      "고민임\n",
      "Extracted reason: '취업/진로'\n",
      "Problem reason: 취업/진로\n",
      "reference : 님께서 왜 내가 취업이 이렇게 싫은지, 취업이라고 하면 떠오르는 이미지는 무엇인지에 대해 먼저 정리해 보시면 좋을 것 같습니다. 나에게 취업이란, 직장이란, 어떤 느낌이기에 좋은 조건의 면접이 와도 가고 싶지 않은 마음이 드는지, 가지 않기로 결정했을 때 어떤 감정들이 들었는지요.  하고 싶지 않은 마음에 대해 스스로를 비난하거나 채찍질을 하는 것이 아니라, 이렇게 불안함에도 불구하고, 취준 생활이 길어지는 것이 답답함에도 불구하고, 왜 나는 면접을 가고 싶지 않은지, 왜 일을 시작하고 싶지 않은지, 왜 돈을 벌고 싶지 않은지에 대해 그 이유를 찬찬히, 조심스럽게 들여다 보시는 것이 필요합니다.  이 과정이 필요한 건, 지금의   님께서 자격증도 따고, 이력서도 넣었음에도 불구하고 그 마지막 스텝이 내딛어지지 않는, 그 이유를 알게 되어야 그 부분에 대한 대처 방법도 마련할 수 있기 때문이에요. 우울감으로 무언가를 시작하기에 기력이 없는 것인지, 새로운 시작이 두려운 것인지, 낯선 사람과 만나는 게 버거운지... 등에 대해 솔직하게 내 마음을 들여다 봐 주세요.\n"
     ]
    },
    {
     "name": "stderr",
     "output_type": "stream",
     "text": [
      "127.0.0.1 - - [10/Sep/2024 15:38:01] \"POST /chatbot HTTP/1.1\" 200 -\n"
     ]
    },
    {
     "name": "stdout",
     "output_type": "stream",
     "text": [
      "정렬된 형태소 분석 결과: ['취업/NNG', '준비/NNG', '가/JKS', '고민/NNG', '이에요/JKS']\n"
     ]
    },
    {
     "name": "stderr",
     "output_type": "stream",
     "text": [
      "127.0.0.1 - - [10/Sep/2024 15:39:59] \"OPTIONS /chatbot HTTP/1.1\" 200 -\n"
     ]
    },
    {
     "name": "stdout",
     "output_type": "stream",
     "text": [
      "Received data: {'user_nick': '1', 'input': '취업준비가 고민이에요'}\n",
      "Processing input: user_nick=1, user_input=취업준비가 고민이에요\n",
      "Is problem flag: True\n",
      "고민임\n",
      "Extracted reason: '취업/진로'\n",
      "Problem reason: 취업/진로\n",
      "reference : 님께서 왜 내가 취업이 이렇게 싫은지, 취업이라고 하면 떠오르는 이미지는 무엇인지에 대해 먼저 정리해 보시면 좋을 것 같습니다. 나에게 취업이란, 직장이란, 어떤 느낌이기에 좋은 조건의 면접이 와도 가고 싶지 않은 마음이 드는지, 가지 않기로 결정했을 때 어떤 감정들이 들었는지요.  하고 싶지 않은 마음에 대해 스스로를 비난하거나 채찍질을 하는 것이 아니라, 이렇게 불안함에도 불구하고, 취준 생활이 길어지는 것이 답답함에도 불구하고, 왜 나는 면접을 가고 싶지 않은지, 왜 일을 시작하고 싶지 않은지, 왜 돈을 벌고 싶지 않은지에 대해 그 이유를 찬찬히, 조심스럽게 들여다 보시는 것이 필요합니다.  이 과정이 필요한 건, 지금의   님께서 자격증도 따고, 이력서도 넣었음에도 불구하고 그 마지막 스텝이 내딛어지지 않는, 그 이유를 알게 되어야 그 부분에 대한 대처 방법도 마련할 수 있기 때문이에요. 우울감으로 무언가를 시작하기에 기력이 없는 것인지, 새로운 시작이 두려운 것인지, 낯선 사람과 만나는 게 버거운지... 등에 대해 솔직하게 내 마음을 들여다 봐 주세요.\n"
     ]
    },
    {
     "name": "stderr",
     "output_type": "stream",
     "text": [
      "127.0.0.1 - - [10/Sep/2024 15:40:20] \"POST /chatbot HTTP/1.1\" 200 -\n"
     ]
    },
    {
     "name": "stdout",
     "output_type": "stream",
     "text": [
      "정렬된 형태소 분석 결과: ['취업/NNG', '준비/NNG', '가/JKS', '고민/NNG', '이에요/JKS']\n"
     ]
    },
    {
     "name": "stderr",
     "output_type": "stream",
     "text": [
      "127.0.0.1 - - [10/Sep/2024 15:44:20] \"OPTIONS /chatbot HTTP/1.1\" 200 -\n"
     ]
    },
    {
     "name": "stdout",
     "output_type": "stream",
     "text": [
      "Received data: {'user_nick': '1', 'input': 'ㅎㅇ'}\n",
      "Processing input: user_nick=1, user_input=ㅎㅇ\n",
      "Is problem flag: False\n"
     ]
    },
    {
     "name": "stderr",
     "output_type": "stream",
     "text": [
      "127.0.0.1 - - [10/Sep/2024 15:44:23] \"POST /chatbot HTTP/1.1\" 200 -\n",
      "127.0.0.1 - - [10/Sep/2024 15:46:50] \"OPTIONS /chatbot HTTP/1.1\" 200 -\n"
     ]
    },
    {
     "name": "stdout",
     "output_type": "stream",
     "text": [
      "Received data: {'user_nick': '1', 'input': 'ㅎㅇ'}\n",
      "Processing input: user_nick=1, user_input=ㅎㅇ\n",
      "Is problem flag: False\n"
     ]
    },
    {
     "name": "stderr",
     "output_type": "stream",
     "text": [
      "127.0.0.1 - - [10/Sep/2024 15:46:53] \"POST /chatbot HTTP/1.1\" 200 -\n",
      "127.0.0.1 - - [10/Sep/2024 15:49:06] \"OPTIONS /chatbot HTTP/1.1\" 200 -\n"
     ]
    },
    {
     "name": "stdout",
     "output_type": "stream",
     "text": [
      "Received data: {'user_nick': '1', 'input': 'gd'}\n",
      "Processing input: user_nick=1, user_input=gd\n",
      "Is problem flag: False\n"
     ]
    },
    {
     "name": "stderr",
     "output_type": "stream",
     "text": [
      "127.0.0.1 - - [10/Sep/2024 15:49:10] \"POST /chatbot HTTP/1.1\" 200 -\n",
      "127.0.0.1 - - [10/Sep/2024 15:49:13] \"OPTIONS /chatbot HTTP/1.1\" 200 -\n"
     ]
    },
    {
     "name": "stdout",
     "output_type": "stream",
     "text": [
      "Received data: {'user_nick': '1', 'input': '뭐지'}\n",
      "Processing input: user_nick=1, user_input=뭐지\n",
      "Is problem flag: False\n"
     ]
    },
    {
     "name": "stderr",
     "output_type": "stream",
     "text": [
      "127.0.0.1 - - [10/Sep/2024 15:49:17] \"POST /chatbot HTTP/1.1\" 200 -\n",
      "127.0.0.1 - - [10/Sep/2024 15:49:27] \"OPTIONS /chatbot HTTP/1.1\" 200 -\n"
     ]
    },
    {
     "name": "stdout",
     "output_type": "stream",
     "text": [
      "Received data: {'user_nick': '1', 'input': 'ㅇㅇㅇㅇㅇㅇㅇㅇㅇㅇㅇㅇㅇㅇㅇㅇㅇㅇㅇㅇㅇㅇㅇㅇㅇㅇㅇㅇㅇㅇㅇㅇㅇㅇㅇㅇㅇㅇㅇㅇㅇㅇㅇㅇㅇㅇㅇㅇㅇㅇㅇ'}\n",
      "Processing input: user_nick=1, user_input=ㅇㅇㅇㅇㅇㅇㅇㅇㅇㅇㅇㅇㅇㅇㅇㅇㅇㅇㅇㅇㅇㅇㅇㅇㅇㅇㅇㅇㅇㅇㅇㅇㅇㅇㅇㅇㅇㅇㅇㅇㅇㅇㅇㅇㅇㅇㅇㅇㅇㅇㅇ\n",
      "Is problem flag: False\n"
     ]
    },
    {
     "name": "stderr",
     "output_type": "stream",
     "text": [
      "127.0.0.1 - - [10/Sep/2024 15:49:31] \"POST /chatbot HTTP/1.1\" 200 -\n",
      "127.0.0.1 - - [10/Sep/2024 15:49:56] \"OPTIONS /chatbot HTTP/1.1\" 200 -\n"
     ]
    },
    {
     "name": "stdout",
     "output_type": "stream",
     "text": [
      "Received data: {'user_nick': '1', 'input': 'ㅇㅇㅇㅇㅇㅇㅇㅇㅇㅇㅇㅇㅇㅇㅇㅇㅇㅇㅇㅇㅇㅇㅇㅇㅇㅇㅇㅇㅇㅇㅇㅇㅇㅇㅇㅇㅇㅇㅇㅇㅇㅇㅇㅇㅇㅇㅇㅇㅇㅇㅇㅇㅇㅇㅇㅇㅇㅇㅇㅇㅇㅇㅇㅇㅇㅇㅇㅇㅇㅇㅇㅇㅇㅇㅇㅇㅇㅇㅇㅇㅇㅇㅇㅇㅇㅇㅇㅇㅇㅇㅇㅇㅇㅇㅇㅇㅇㅇㅇㅇㅇㅇ'}\n",
      "Processing input: user_nick=1, user_input=ㅇㅇㅇㅇㅇㅇㅇㅇㅇㅇㅇㅇㅇㅇㅇㅇㅇㅇㅇㅇㅇㅇㅇㅇㅇㅇㅇㅇㅇㅇㅇㅇㅇㅇㅇㅇㅇㅇㅇㅇㅇㅇㅇㅇㅇㅇㅇㅇㅇㅇㅇㅇㅇㅇㅇㅇㅇㅇㅇㅇㅇㅇㅇㅇㅇㅇㅇㅇㅇㅇㅇㅇㅇㅇㅇㅇㅇㅇㅇㅇㅇㅇㅇㅇㅇㅇㅇㅇㅇㅇㅇㅇㅇㅇㅇㅇㅇㅇㅇㅇㅇㅇ\n",
      "Is problem flag: False\n"
     ]
    },
    {
     "name": "stderr",
     "output_type": "stream",
     "text": [
      "127.0.0.1 - - [10/Sep/2024 15:50:01] \"POST /chatbot HTTP/1.1\" 200 -\n",
      "127.0.0.1 - - [10/Sep/2024 15:59:39] \"OPTIONS /chatbot HTTP/1.1\" 200 -\n"
     ]
    },
    {
     "name": "stdout",
     "output_type": "stream",
     "text": [
      "Received data: {'user_nick': '1', 'input': 'ㅇㅇㅇㅇㅇ'}\n",
      "Processing input: user_nick=1, user_input=ㅇㅇㅇㅇㅇ\n",
      "Is problem flag: False\n"
     ]
    },
    {
     "name": "stderr",
     "output_type": "stream",
     "text": [
      "127.0.0.1 - - [10/Sep/2024 15:59:43] \"POST /chatbot HTTP/1.1\" 200 -\n",
      "127.0.0.1 - - [10/Sep/2024 16:00:17] \"OPTIONS /chatbot HTTP/1.1\" 200 -\n"
     ]
    },
    {
     "name": "stdout",
     "output_type": "stream",
     "text": [
      "Received data: {'user_nick': '1', 'input': 'ㅇㅇㅇ'}\n",
      "Processing input: user_nick=1, user_input=ㅇㅇㅇ\n",
      "Is problem flag: False\n"
     ]
    },
    {
     "name": "stderr",
     "output_type": "stream",
     "text": [
      "127.0.0.1 - - [10/Sep/2024 16:00:22] \"POST /chatbot HTTP/1.1\" 200 -\n",
      "127.0.0.1 - - [10/Sep/2024 16:04:02] \"OPTIONS /chatbot HTTP/1.1\" 200 -\n"
     ]
    },
    {
     "name": "stdout",
     "output_type": "stream",
     "text": [
      "Received data: {'user_nick': '1', 'input': 'ㅎㅇ'}\n",
      "Processing input: user_nick=1, user_input=ㅎㅇ\n",
      "Is problem flag: False\n"
     ]
    },
    {
     "name": "stderr",
     "output_type": "stream",
     "text": [
      "127.0.0.1 - - [10/Sep/2024 16:04:06] \"POST /chatbot HTTP/1.1\" 200 -\n",
      "127.0.0.1 - - [10/Sep/2024 16:05:09] \"OPTIONS /chatbot HTTP/1.1\" 200 -\n"
     ]
    },
    {
     "name": "stdout",
     "output_type": "stream",
     "text": [
      "Received data: {'user_nick': '1', 'input': 'ㅎㅇ'}\n",
      "Processing input: user_nick=1, user_input=ㅎㅇ\n",
      "Is problem flag: False\n"
     ]
    },
    {
     "name": "stderr",
     "output_type": "stream",
     "text": [
      "127.0.0.1 - - [10/Sep/2024 16:05:12] \"POST /chatbot HTTP/1.1\" 200 -\n"
     ]
    },
    {
     "name": "stdout",
     "output_type": "stream",
     "text": [
      "Received data: {'user_nick': '1', 'input': '왜 이렇게 되는거냐'}\n",
      "Processing input: user_nick=1, user_input=왜 이렇게 되는거냐\n",
      "Is problem flag: False\n"
     ]
    },
    {
     "name": "stderr",
     "output_type": "stream",
     "text": [
      "127.0.0.1 - - [10/Sep/2024 16:05:17] \"POST /chatbot HTTP/1.1\" 200 -\n",
      "127.0.0.1 - - [10/Sep/2024 16:05:46] \"OPTIONS /chatbot HTTP/1.1\" 200 -\n"
     ]
    },
    {
     "name": "stdout",
     "output_type": "stream",
     "text": [
      "Received data: {'user_nick': '1', 'input': 'ㅎㅇ'}\n",
      "Processing input: user_nick=1, user_input=ㅎㅇ\n",
      "Is problem flag: False\n"
     ]
    },
    {
     "name": "stderr",
     "output_type": "stream",
     "text": [
      "127.0.0.1 - - [10/Sep/2024 16:05:49] \"POST /chatbot HTTP/1.1\" 200 -\n",
      "127.0.0.1 - - [10/Sep/2024 16:07:35] \"OPTIONS /chatbot HTTP/1.1\" 200 -\n"
     ]
    },
    {
     "name": "stdout",
     "output_type": "stream",
     "text": [
      "Received data: {'user_nick': '1', 'input': 'ㅎㅇ'}\n",
      "Processing input: user_nick=1, user_input=ㅎㅇ\n",
      "Is problem flag: False\n"
     ]
    },
    {
     "name": "stderr",
     "output_type": "stream",
     "text": [
      "127.0.0.1 - - [10/Sep/2024 16:07:38] \"POST /chatbot HTTP/1.1\" 200 -\n",
      "127.0.0.1 - - [10/Sep/2024 16:07:46] \"OPTIONS /chatbot HTTP/1.1\" 200 -\n"
     ]
    },
    {
     "name": "stdout",
     "output_type": "stream",
     "text": [
      "Received data: {'user_nick': '1', 'input': 'ㅇㅇㅇㅇㅇㅇㅇㅇㅇㅇㅇㅇㅇㅇㅇㅇㅇㅇㅇㅇㅇㅇㅇㅇㅇㅇㅇㅇㅇㅇㅇㅇㅇㅇㅇㅇㅇㅇㅇㅇㅇㅇㅇㅇㅇㅇㅇㅇㅇㅇㅇㅇㅇㅇㅇㅇ'}\n",
      "Processing input: user_nick=1, user_input=ㅇㅇㅇㅇㅇㅇㅇㅇㅇㅇㅇㅇㅇㅇㅇㅇㅇㅇㅇㅇㅇㅇㅇㅇㅇㅇㅇㅇㅇㅇㅇㅇㅇㅇㅇㅇㅇㅇㅇㅇㅇㅇㅇㅇㅇㅇㅇㅇㅇㅇㅇㅇㅇㅇㅇㅇ\n",
      "Is problem flag: False\n"
     ]
    },
    {
     "name": "stderr",
     "output_type": "stream",
     "text": [
      "127.0.0.1 - - [10/Sep/2024 16:07:52] \"POST /chatbot HTTP/1.1\" 200 -\n",
      "127.0.0.1 - - [10/Sep/2024 16:07:57] \"OPTIONS /chatbot HTTP/1.1\" 200 -\n"
     ]
    },
    {
     "name": "stdout",
     "output_type": "stream",
     "text": [
      "Received data: {'user_nick': '1', 'input': '취업준비가 너무 힘들어요'}\n",
      "Processing input: user_nick=1, user_input=취업준비가 너무 힘들어요\n",
      "Is problem flag: True\n",
      "고민임\n",
      "Extracted reason: '취업/진로'\n",
      "Problem reason: 취업/진로\n",
      "reference : 님께서 왜 내가 취업이 이렇게 싫은지, 취업이라고 하면 떠오르는 이미지는 무엇인지에 대해 먼저 정리해 보시면 좋을 것 같습니다. 나에게 취업이란, 직장이란, 어떤 느낌이기에 좋은 조건의 면접이 와도 가고 싶지 않은 마음이 드는지, 가지 않기로 결정했을 때 어떤 감정들이 들었는지요.  하고 싶지 않은 마음에 대해 스스로를 비난하거나 채찍질을 하는 것이 아니라, 이렇게 불안함에도 불구하고, 취준 생활이 길어지는 것이 답답함에도 불구하고, 왜 나는 면접을 가고 싶지 않은지, 왜 일을 시작하고 싶지 않은지, 왜 돈을 벌고 싶지 않은지에 대해 그 이유를 찬찬히, 조심스럽게 들여다 보시는 것이 필요합니다.  이 과정이 필요한 건, 지금의   님께서 자격증도 따고, 이력서도 넣었음에도 불구하고 그 마지막 스텝이 내딛어지지 않는, 그 이유를 알게 되어야 그 부분에 대한 대처 방법도 마련할 수 있기 때문이에요. 우울감으로 무언가를 시작하기에 기력이 없는 것인지, 새로운 시작이 두려운 것인지, 낯선 사람과 만나는 게 버거운지... 등에 대해 솔직하게 내 마음을 들여다 봐 주세요.\n"
     ]
    },
    {
     "name": "stderr",
     "output_type": "stream",
     "text": [
      "127.0.0.1 - - [10/Sep/2024 16:08:18] \"POST /chatbot HTTP/1.1\" 200 -\n"
     ]
    },
    {
     "name": "stdout",
     "output_type": "stream",
     "text": [
      "정렬된 형태소 분석 결과: ['취업/NNG', '준비/NNG', '가/JKS', '너무/MAG', '힘들어요/VA']\n"
     ]
    },
    {
     "name": "stderr",
     "output_type": "stream",
     "text": [
      "127.0.0.1 - - [10/Sep/2024 16:11:43] \"OPTIONS /chatbot HTTP/1.1\" 200 -\n"
     ]
    },
    {
     "name": "stdout",
     "output_type": "stream",
     "text": [
      "Received data: {'user_nick': '1', 'input': 'gd'}\n",
      "Processing input: user_nick=1, user_input=gd\n",
      "Is problem flag: False\n"
     ]
    },
    {
     "name": "stderr",
     "output_type": "stream",
     "text": [
      "127.0.0.1 - - [10/Sep/2024 16:11:47] \"POST /chatbot HTTP/1.1\" 200 -\n",
      "127.0.0.1 - - [10/Sep/2024 16:16:27] \"OPTIONS /chatbot HTTP/1.1\" 200 -\n"
     ]
    },
    {
     "name": "stdout",
     "output_type": "stream",
     "text": [
      "Received data: {'user_nick': '1', 'input': 'ㅎㅇ'}\n",
      "Processing input: user_nick=1, user_input=ㅎㅇ\n",
      "Is problem flag: False\n"
     ]
    },
    {
     "name": "stderr",
     "output_type": "stream",
     "text": [
      "127.0.0.1 - - [10/Sep/2024 16:16:31] \"POST /chatbot HTTP/1.1\" 200 -\n"
=======
      "Error: Error code: 429 - {'error': {'message': 'You exceeded your current quota, please check your plan and billing details. For more information on this error, read the docs: https://platform.openai.com/docs/guides/error-codes/api-errors.', 'type': 'insufficient_quota', 'param': None, 'code': 'insufficient_quota'}}\n",
      "Error 'str' object has no attribute 'get_json'\n"
>>>>>>> 961eaae6fa90b66b0648c971d5d1bef31d6897e9
     ]
    }
   ],
   "source": [
    "from flask import Flask, request, jsonify\n",
    "from flask_cors import CORS\n",
    "from chatbot import ChatBot, load_api_key\n",
    "from OktSentiment import Sentiment\n",
    "from tarot import TarotBot\n",
    "from refer_text import ResponseSearch\n",
    "\n",
    "app = Flask(__name__)\n",
    "CORS(app)\n",
    "\n",
    "# ChatBot 인스턴스 생성\n",
    "api_key = load_api_key()\n",
    "if not api_key:\n",
    "    raise ValueError(\"API key not found or invalid. Please check your api_key.txt file.\")\n",
    "respon_search = ResponseSearch('C:\\\\Users\\\\SMHRD\\\\Documents\\\\카카오톡 받은 파일\\\\최종_참조자료.csv',\"jhgan/ko-sroberta-multitask\")\n",
    "chatbot = ChatBot(api_key, respon_search)  # CSV 파일 경로를 적절히 수정하세요\n",
    "#C:\\Users\\SMHRD\\Documents\\카카오톡 받은 파일\\원인-대처종합.csv //c:/Users/SMHRD/원인-대처종합.csv\n",
    "# Sentiment 인스턴스 생성\n",
    "sentiment_analyzer = Sentiment()\n",
    "\n",
    "@app.route(\"/chatbot\", methods=[\"POST\"])\n",
    "def chat():\n",
    "    data = request.json\n",
    "    print(\"Received data:\", data)\n",
    "    user_nick = data.get(\"user_nick\")\n",
    "    user_input = data.get(\"input\")\n",
    "    \n",
    "    if user_input:\n",
    "        try:\n",
    "            response = chatbot.process_input(user_nick, user_input)\n",
    "            \n",
    "            if response.get(\"isProblem\"):\n",
    "                # 형태소 분석 및 감정 분석 수행\n",
    "                sentiment_results = sentiment_analyzer.parse([user_input])\n",
    "                # 결과가 딕셔너리 형태로 바꾸고 소수점 소수점 둘쨰자리까지\n",
    "                if 'polarity' in sentiment_results and len(sentiment_results['polarity']) > 0:\n",
    "                    sentiment_results = sentiment_results['polarity'][0]\n",
    "                    sentiment_results = {key: round(value * 100, 2) for key, value in sentiment_results.items()}\n",
    "\n",
    "                response.update({\n",
    "                    \"sentiment\": sentiment_results\n",
    "                })\n",
    "\n",
    "            return jsonify(response)\n",
    "        except Exception as e:\n",
    "            print(f\"Error occurred: {str(e)}\")\n",
    "            return jsonify({\"error\": f\"An error occurred while processing your request: {str(e)}\"}), 500\n",
    "    else:\n",
    "        return jsonify({\"error\": \"No input provided\"}), 400\n",
    "\n",
    "# 타로카드 라우트\n",
    "@app.route(\"/api/interpret\",methods=[\"POST\"])\n",
    "\n",
    "def tarot_card():\n",
    "    data = request.json\n",
    "    user_mode = data.get(\"user_mode\")\n",
    "    cards = data.get(\"cards\")\n",
    "    user_input = data.get(\"user_input\")\n",
    "    user_select = data.get(\"user_select\")\n",
    "    print(\"recived data: \",data)\n",
    "    if not cards or len(cards) != 3:\n",
    "        return jsonify({\"error\": \"카드를 다시 선택해 주세요.\"}),400 \n",
    "    \n",
    "    key_path = \"c:/Users/SMHRD/api.txt\"\n",
    "    try:\n",
    "        tarot = TarotBot(api_key_path=key_path)\n",
    "        if user_mode ==\"일반\":\n",
    "            print(user_input)\n",
    "            response = tarot.general_reading(user_select,cards)\n",
    "        elif user_mode == \"심리\":\n",
    "            response = tarot.interpret_cards(user_input,cards)\n",
    "\n",
    "        print(\"response: \",response.get_json())\n",
    "        return response\n",
    "\n",
    "    except Exception as e:\n",
    "        print(\"Error\",str(e))\n",
    "        return jsonify({\"error\":str(e)}),500\n",
    "\n",
    "if __name__ == \"__main__\":\n",
    "    app.run(port=7000)"
   ]
  },
  {
   "cell_type": "code",
   "execution_count": null,
   "metadata": {},
   "outputs": [],
   "source": []
  }
 ],
 "metadata": {
  "kernelspec": {
   "display_name": "base",
   "language": "python",
   "name": "python3"
  },
  "language_info": {
   "codemirror_mode": {
    "name": "ipython",
    "version": 3
   },
   "file_extension": ".py",
   "mimetype": "text/x-python",
   "name": "python",
   "nbconvert_exporter": "python",
   "pygments_lexer": "ipython3",
   "version": "3.12.4"
  }
 },
 "nbformat": 4,
 "nbformat_minor": 2
}
