{
 "cells": [
  {
   "cell_type": "code",
   "execution_count": 1,
   "metadata": {},
   "outputs": [
    {
     "name": "stdout",
     "output_type": "stream",
     "text": [
      " * Serving Flask app '__main__'\n",
      " * Debug mode: off\n"
     ]
    },
    {
     "name": "stderr",
     "output_type": "stream",
     "text": [
      "WARNING: This is a development server. Do not use it in a production deployment. Use a production WSGI server instead.\n",
      " * Running on http://127.0.0.1:7000\n",
      "Press CTRL+C to quit\n",
      "127.0.0.1 - - [05/Sep/2024 17:11:00] \"OPTIONS /api/interpret HTTP/1.1\" 200 -\n"
     ]
    },
    {
     "name": "stdout",
     "output_type": "stream",
     "text": [
      "Host: localhost:7000\n",
      "Connection: keep-alive\n",
      "Content-Length: 149\n",
      "Sec-Ch-Ua: \"Chromium\";v=\"128\", \"Not;A=Brand\";v=\"24\", \"Google Chrome\";v=\"128\"\n",
      "Content-Type: application/json\n",
      "Sec-Ch-Ua-Mobile: ?0\n",
      "User-Agent: Mozilla/5.0 (Windows NT 10.0; Win64; x64) AppleWebKit/537.36 (KHTML, like Gecko) Chrome/128.0.0.0 Safari/537.36\n",
      "Sec-Ch-Ua-Platform: \"Windows\"\n",
      "Accept: */*\n",
      "Origin: http://localhost:3300\n",
      "Sec-Fetch-Site: same-site\n",
      "Sec-Fetch-Mode: cors\n",
      "Sec-Fetch-Dest: empty\n",
      "Referer: http://localhost:3300/\n",
      "Accept-Encoding: gzip, deflate, br, zstd\n",
      "Accept-Language: ko-KR,ko;q=0.9,en-US;q=0.8,en;q=0.7\n",
      "\n",
      "\n",
      "b'{\"user_mode\":\"\\xec\\x8b\\xac\\xeb\\xa6\\xac\",\"user_select\":\"\\xec\\x98\\xa4\\xeb\\x8a\\x98\\xec\\x9d\\x98 \\xec\\x9a\\xb4\\xec\\x84\\xb8\",\"cards\":[\"Knight of Pentacles\",\"Death\",\"Six of Wands\"],\"user_input\":\"\\xec\\xa0\\x80\\xeb\\x85\\x81\\xec\\x97\\x90 \\xec\\x9e\\xa0\\xec\\x9d\\x84 \\xeb\\xaa\\xbb\\xec\\x9e\\x90\"}'\n",
      "recived data:  {'user_mode': '심리', 'user_select': '오늘의 운세', 'cards': ['Knight of Pentacles', 'Death', 'Six of Wands'], 'user_input': '저녁에 잠을 못자'}\n",
      "저녁에 잠을 못자 ['Knight of Pentacles', 'Death', 'Six of Wands']\n"
     ]
    },
    {
     "name": "stderr",
     "output_type": "stream",
     "text": [
      "c:\\Users\\SMHRD\\anaconda3\\Lib\\site-packages\\langchain_core\\_api\\deprecation.py:139: LangChainDeprecationWarning: The class `LLMChain` was deprecated in LangChain 0.1.17 and will be removed in 1.0. Use RunnableSequence, e.g., `prompt | llm` instead.\n",
      "  warn_deprecated(\n",
      "127.0.0.1 - - [05/Sep/2024 17:11:03] \"POST /api/interpret HTTP/1.1\" 200 -\n"
     ]
    },
    {
     "name": "stdout",
     "output_type": "stream",
     "text": [
      "response:  {'answer': {'cards': ['Knight of Pentacles', 'Death', 'Six of Wands'], 'text': '[\\'Knight of Pentacles\\', \\'Death\\', \\'Six of Wands\\']의 의미는 한 줄로 간략히 출력하면 다음과 같습니다:\\n\"꾸준한 노력과 변화, 성공과 승리의 조화\"\\n\\n저녁에 잠을 못자시는 문제를 타로카드로 종합해 해석하면 다음과 같습니다:\\nKnight of Pentacles는 꾸준한 노력과 인내를 상징하며, 현재 무언가에 열심히 몰두하고 있음을 나타냅니다. Death 카드는 큰 변화나 전환점을 의미하며, 현재의 상황이 끝나고 새로운 시작을 맞이해야 할 필요성을 시사합니다. Six of Wands는 성공과 승리를 상징하며, 앞으로의 긍정적인 결과를 예고합니다. 저녁에 잠을 못 자는 문제는 현재의 스트레스와 변화에 대한 적응이 필요하기 때문일 수 있습니다. 꾸준히 노력하고 적응함으로써 결국 성공적인 해결을 찾을 수 있을 것입니다.', 'user_input': '저녁에 잠을 못자'}}\n"
     ]
    },
    {
     "name": "stderr",
     "output_type": "stream",
     "text": [
      "127.0.0.1 - - [05/Sep/2024 17:11:48] \"OPTIONS /api/interpret HTTP/1.1\" 200 -\n"
     ]
    },
    {
     "name": "stdout",
     "output_type": "stream",
     "text": [
      "Host: localhost:7000\n",
      "Connection: keep-alive\n",
      "Content-Length: 149\n",
      "Sec-Ch-Ua: \"Chromium\";v=\"128\", \"Not;A=Brand\";v=\"24\", \"Google Chrome\";v=\"128\"\n",
      "Content-Type: application/json\n",
      "Sec-Ch-Ua-Mobile: ?0\n",
      "User-Agent: Mozilla/5.0 (Windows NT 10.0; Win64; x64) AppleWebKit/537.36 (KHTML, like Gecko) Chrome/128.0.0.0 Safari/537.36\n",
      "Sec-Ch-Ua-Platform: \"Windows\"\n",
      "Accept: */*\n",
      "Origin: http://localhost:3300\n",
      "Sec-Fetch-Site: same-site\n",
      "Sec-Fetch-Mode: cors\n",
      "Sec-Fetch-Dest: empty\n",
      "Referer: http://localhost:3300/\n",
      "Accept-Encoding: gzip, deflate, br, zstd\n",
      "Accept-Language: ko-KR,ko;q=0.9,en-US;q=0.8,en;q=0.7\n",
      "\n",
      "\n",
      "b'{\"user_mode\":\"\\xec\\x9d\\xbc\\xeb\\xb0\\x98\",\"user_select\":\"\\xec\\x98\\xa4\\xeb\\x8a\\x98\\xec\\x9d\\x98 \\xec\\x9a\\xb4\\xec\\x84\\xb8\",\"cards\":[\"Knight of Pentacles\",\"Death\",\"Six of Wands\"],\"user_input\":\"\\xec\\xa0\\x80\\xeb\\x85\\x81\\xec\\x97\\x90 \\xec\\x9e\\xa0\\xec\\x9d\\x84 \\xeb\\xaa\\xbb\\xec\\x9e\\x90\"}'\n",
      "recived data:  {'user_mode': '일반', 'user_select': '오늘의 운세', 'cards': ['Knight of Pentacles', 'Death', 'Six of Wands'], 'user_input': '저녁에 잠을 못자'}\n"
     ]
    },
    {
     "name": "stderr",
     "output_type": "stream",
     "text": [
      "127.0.0.1 - - [05/Sep/2024 17:11:51] \"POST /api/interpret HTTP/1.1\" 200 -\n"
     ]
    },
    {
     "name": "stdout",
     "output_type": "stream",
     "text": [
      "response:  {'answer': {'cards': 'Knight of Pentacles, Death, Six of Wands', 'text': '- Knight of Pentacles: 꾸준함과 신중함.\\n- Death: 변화와 새로운 시작.\\n- Six of Wands: 승리와 인정.\\n\\n오늘의 운세: 오늘은 꾸준하고 신중한 태도로 임하면 큰 변화를 맞이하게 될 것입니다. 이 변화는 처음에는 두려울 수 있지만, 결국 당신에게 긍정적인 결과를 가져다줄 것입니다. 변화에 적응하고 자신의 목표를 잊지 않는다면, 주변 사람들의 인정과 승리를 얻을 수 있을 것입니다. 일상 속에서 작은 성취들이 큰 성공으로 이어질 테니, 꾸준함과 인내심을 잃지 마세요.', 'user_select': '오늘의 운세'}}\n"
     ]
    }
   ],
   "source": [
    "from flask import Flask, request, jsonify\n",
    "from flask_cors import CORS\n",
    "from chatbot_test import ChatBotTs, load_api_key\n",
    "from OktSentiment import Sentiment\n",
    "from tarot import TarotBot\n",
    "\n",
    "app = Flask(__name__)\n",
    "CORS(app)\n",
    "\n",
    "# ChatBot 인스턴스 생성\n",
    "api_key = load_api_key()\n",
    "if not api_key:\n",
    "    raise ValueError(\"API key not found or invalid. Please check your api_key.txt file.\")\n",
    "chatbot = ChatBotTs(api_key, 'C:\\\\Users\\\\SMHRD\\\\Documents\\\\카카오톡 받은 파일\\\\유형,대처,유형설명(마카님 삭제).csv')  # CSV 파일 경로를 적절히 수정하세요\n",
    "#C:\\\\Users\\\\SMHRD\\\\Documents\\\\카카오톡 받은 파일\\\\유형,대처,유형설명(마카님 삭제).csv\n",
    "#c:/Users/SMHRD/원인-대처종합.csv\n",
    "\n",
    "# Sentiment 인스턴스 생성\n",
    "sentiment_analyzer = Sentiment()\n",
    "\n",
    "@app.route(\"/chatbot\", methods=[\"POST\"])\n",
    "def chat():\n",
    "    data = request.json\n",
    "    print(\"Received data:\", data)\n",
    "    user_nick = data.get(\"user_nick\")\n",
    "    user_input = data.get(\"input\")\n",
    "    \n",
    "    if user_input:\n",
    "        try:\n",
    "            response = chatbot.process_input(user_nick, user_input)\n",
    "            if response.get(\"isProblem\"):\n",
    "                # 형태소 분석 및 감정 분석 수행\n",
    "                sentiment_results = sentiment_analyzer.parse([user_input])\n",
    "                # 결과가 딕셔너리 형태로 바꾸고 소수점 소수점 둘쨰자리까지\n",
    "                if 'polarity' in sentiment_results and len(sentiment_results['polarity']) > 0:\n",
    "                    sentiment_results = sentiment_results['polarity'][0]\n",
    "                    sentiment_results = {key: round(value * 100, 2) for key, value in sentiment_results.items()}\n",
    "\n",
    "                response.update({\n",
    "                    \"sentiment\": sentiment_results\n",
    "                })\n",
    "\n",
    "            return jsonify(response)\n",
    "        except Exception as e:\n",
    "            print(f\"Error occurred: {str(e)}\")\n",
    "            return jsonify({\"error\": f\"An error occurred while processing your request: {str(e)}\"}), 500\n",
    "    else:\n",
    "        return jsonify({\"error\": \"No input provided\"}), 400\n",
    "\n",
    "# 타로카드 라우트\n",
    "@app.route(\"/api/interpret\",methods=[\"POST\"])\n",
    "\n",
    "def tarot_card():\n",
    "    print(request.headers)\n",
    "    print(request.data)\n",
    "    \n",
    "    data = request.get_json()\n",
    "    cards = data.get(\"cards\")\n",
    "    user_mode = data.get(\"user_mode\")\n",
    "    user_input = data.get(\"user_input\")\n",
    "    user_select = data.get(\"user_select\")\n",
    "    print(\"recived data: \", data)\n",
    "    if not cards or len(cards) != 3:\n",
    "        return jsonify({\"error\": \"카드를 다시 선택해 주세요.\"}), 400\n",
    "            \n",
    "    # key_path = \"c:\\\\Users\\\\SMHRD\\\\api.txt\"\n",
    "    key_path = \"C:\\\\Users\\\\SMHRD\\\\Desktop\\\\ky_api.txt\"\n",
    "    try:\n",
    "        tarot = TarotBot(api_key_path=key_path)\n",
    "        if user_mode == \"일반\":\n",
    "            response = tarot.general_reading(user_select,cards)\n",
    "            \n",
    "        elif user_mode == \"심리\":\n",
    "            print(user_input,cards)\n",
    "            response = tarot.interpret_cards(user_input,cards)\n",
    "        else:\n",
    "            return jsonify({\"error\":\"Invalid user_mode value.\"})\n",
    "        return response\n",
    "    except Exception as e:\n",
    "        print(\"Error\",str(e))\n",
    "        return jsonify({\"error\":str(e)}), 500\n",
    "\n",
    "\n",
    "if __name__ == \"__main__\":\n",
    "    app.run(port=7000)"
   ]
  }
 ],
 "metadata": {
  "kernelspec": {
   "display_name": "base",
   "language": "python",
   "name": "python3"
  },
  "language_info": {
   "codemirror_mode": {
    "name": "ipython",
    "version": 3
   },
   "file_extension": ".py",
   "mimetype": "text/x-python",
   "name": "python",
   "nbconvert_exporter": "python",
   "pygments_lexer": "ipython3",
   "version": "3.11.7"
  }
 },
 "nbformat": 4,
 "nbformat_minor": 2
}
