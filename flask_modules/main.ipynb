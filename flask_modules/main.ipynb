{
 "cells": [
  {
   "cell_type": "code",
<<<<<<< HEAD
   "execution_count": 1,
=======
   "execution_count": 7,
>>>>>>> refs/rewritten/main-19
   "metadata": {},
   "outputs": [
    {
     "name": "stderr",
     "output_type": "stream",
     "text": [
      "c:\\Users\\SMHRD\\Desktop\\MindRoad - 복사본\\flask_modules\\chatbot.py:9: LangChainDeprecationWarning: The class `ChatOpenAI` was deprecated in LangChain 0.0.10 and will be removed in 1.0. An updated version of the class exists in the langchain-openai package and should be used instead. To use it run `pip install -U langchain-openai` and import as `from langchain_openai import ChatOpenAI`.\n",
      "  self.model = ChatOpenAI(temperature=0.7, model_name=\"gpt-4\", openai_api_key=api_key)\n"
     ]
    },
    {
     "name": "stdout",
     "output_type": "stream",
     "text": [
      "Error: c:/Users/SMHRD/api.txt not found.\n"
     ]
    },
    {
<<<<<<< HEAD
     "ename": "ValueError",
     "evalue": "API key not found or invalid. Please check your api_key.txt file.",
     "output_type": "error",
     "traceback": [
      "\u001b[1;31m---------------------------------------------------------------------------\u001b[0m",
      "\u001b[1;31mValueError\u001b[0m                                Traceback (most recent call last)",
      "Cell \u001b[1;32mIn[1], line 13\u001b[0m\n\u001b[0;32m     11\u001b[0m api_key \u001b[38;5;241m=\u001b[39m load_api_key()\n\u001b[0;32m     12\u001b[0m \u001b[38;5;28;01mif\u001b[39;00m \u001b[38;5;129;01mnot\u001b[39;00m api_key:\n\u001b[1;32m---> 13\u001b[0m     \u001b[38;5;28;01mraise\u001b[39;00m \u001b[38;5;167;01mValueError\u001b[39;00m(\u001b[38;5;124m\"\u001b[39m\u001b[38;5;124mAPI key not found or invalid. Please check your api_key.txt file.\u001b[39m\u001b[38;5;124m\"\u001b[39m)\n\u001b[0;32m     14\u001b[0m chatbot \u001b[38;5;241m=\u001b[39m ChatBot(api_key, \u001b[38;5;124m'\u001b[39m\u001b[38;5;124mc:/Users/SMHRD/원인-대처종합.csv\u001b[39m\u001b[38;5;124m'\u001b[39m)  \u001b[38;5;66;03m# CSV 파일 경로를 적절히 수정하세요\u001b[39;00m\n\u001b[0;32m     15\u001b[0m \u001b[38;5;66;03m#C:\\Users\\SMHRD\\Documents\\카카오톡 받은 파일\\원인-대처종합.csv //c:/Users/SMHRD/원인-대처종합.csv\u001b[39;00m\n\u001b[0;32m     16\u001b[0m \u001b[38;5;66;03m# Sentiment 인스턴스 생성\u001b[39;00m\n",
      "\u001b[1;31mValueError\u001b[0m: API key not found or invalid. Please check your api_key.txt file."
=======
     "name": "stderr",
     "output_type": "stream",
     "text": [
      "WARNING: This is a development server. Do not use it in a production deployment. Use a production WSGI server instead.\n",
      " * Running on http://127.0.0.1:7000\n",
      "Press CTRL+C to quit\n",
      "127.0.0.1 - - [05/Sep/2024 11:10:48] \"OPTIONS /chatbot HTTP/1.1\" 200 -\n"
     ]
    },
    {
     "name": "stdout",
     "output_type": "stream",
     "text": [
      "Received data: {'user_nick': 'ADMIN', 'input': '안녕!'}\n",
      "Processing input: user_nick=ADMIN, user_input=안녕!\n"
     ]
    },
    {
     "name": "stderr",
     "output_type": "stream",
     "text": [
      "c:\\Users\\SMHRD\\Desktop\\MindRoad - 복사본\\flask_modules\\chatbot.py:29: LangChainDeprecationWarning: The class `LLMChain` was deprecated in LangChain 0.1.17 and will be removed in 1.0. Use RunnableSequence, e.g., `prompt | llm` instead.\n",
      "  chain = LLMChain(llm=self.model, prompt=template)\n",
      "c:\\Users\\SMHRD\\Desktop\\MindRoad - 복사본\\flask_modules\\chatbot.py:30: LangChainDeprecationWarning: The method `Chain.run` was deprecated in langchain 0.1.0 and will be removed in 1.0. Use invoke instead.\n",
      "  response = chain.run(user_input=user_input).strip()\n"
     ]
    },
    {
     "name": "stdout",
     "output_type": "stream",
     "text": [
      "Is problem flag: False\n",
      "고민이 아님\n"
     ]
    },
    {
     "name": "stderr",
     "output_type": "stream",
     "text": [
      "127.0.0.1 - - [05/Sep/2024 11:10:50] \"POST /chatbot HTTP/1.1\" 200 -\n",
      "127.0.0.1 - - [05/Sep/2024 11:10:58] \"OPTIONS /chatbot HTTP/1.1\" 200 -\n"
     ]
    },
    {
     "name": "stdout",
     "output_type": "stream",
     "text": [
      "Received data: {'user_nick': 'ADMIN', 'input': '요즘 과민성대장증후군이 너무 심해서 힘들어 ㅠ'}\n",
      "Processing input: user_nick=ADMIN, user_input=요즘 과민성대장증후군이 너무 심해서 힘들어 ㅠ\n",
      "Is problem flag: True\n",
      "고민임\n",
      "Extracted reason: '투병/신체'\n",
      "Problem reason: 투병/신체\n"
     ]
    },
    {
     "name": "stderr",
     "output_type": "stream",
     "text": [
      "127.0.0.1 - - [05/Sep/2024 11:11:23] \"POST /chatbot HTTP/1.1\" 200 -\n"
     ]
    },
    {
     "name": "stdout",
     "output_type": "stream",
     "text": [
      "정렬된 형태소 분석 결과: ['요즘/NNG', '과민성/NNG', '대장/NNG', '증후군/NNG', '이/JKS', '너무/MAG', '심해서/VA', '힘들어/VA', 'ㅠ/VCP']\n"
     ]
    },
    {
     "name": "stderr",
     "output_type": "stream",
     "text": [
      "127.0.0.1 - - [05/Sep/2024 11:13:22] \"OPTIONS /chatbot HTTP/1.1\" 200 -\n"
     ]
    },
    {
     "name": "stdout",
     "output_type": "stream",
     "text": [
      "Received data: {'user_nick': 'ADMIN', 'input': '불면증이 너무 심한데 어떻게 하면 좋을까 ?'}\n",
      "Processing input: user_nick=ADMIN, user_input=불면증이 너무 심한데 어떻게 하면 좋을까 ?\n",
      "Is problem flag: True\n",
      "고민임\n"
     ]
    },
    {
     "name": "stderr",
     "output_type": "stream",
     "text": [
      "127.0.0.1 - - [05/Sep/2024 11:13:25] \"POST /chatbot HTTP/1.1\" 200 -\n"
     ]
    },
    {
     "name": "stdout",
     "output_type": "stream",
     "text": [
      "Extracted reason: '정신건강'\n",
      "Problem reason: 정신건강\n",
      "정렬된 형태소 분석 결과: ['불면증/NNG', '이/JKS', '너무/MAG', '심한데/VV', '어떻게/VA', '하면/VV', '좋을까/VA', '?/SF']\n"
     ]
    },
    {
     "name": "stderr",
     "output_type": "stream",
     "text": [
      "127.0.0.1 - - [05/Sep/2024 11:14:03] \"OPTIONS /chatbot HTTP/1.1\" 200 -\n"
     ]
    },
    {
     "name": "stdout",
     "output_type": "stream",
     "text": [
      "Received data: {'user_nick': 'ADMIN', 'input': '요즘 잠을 잘 못자겠어'}\n",
      "Processing input: user_nick=ADMIN, user_input=요즘 잠을 잘 못자겠어\n",
      "Is problem flag: True\n",
      "고민임\n"
     ]
    },
    {
     "name": "stderr",
     "output_type": "stream",
     "text": [
      "127.0.0.1 - - [05/Sep/2024 11:14:04] \"POST /chatbot HTTP/1.1\" 200 -\n"
     ]
    },
    {
     "name": "stdout",
     "output_type": "stream",
     "text": [
      "Extracted reason: '정신건강'\n",
      "Problem reason: 정신건강\n",
      "정렬된 형태소 분석 결과: ['요즘/NNG', '잠/NNG', '을/JKS', '잘/VV', '못자겠어/VV']\n"
     ]
    },
    {
     "name": "stderr",
     "output_type": "stream",
     "text": [
      "127.0.0.1 - - [05/Sep/2024 11:14:22] \"OPTIONS /chatbot HTTP/1.1\" 200 -\n"
     ]
    },
    {
     "name": "stdout",
     "output_type": "stream",
     "text": [
      "Received data: {'user_nick': 'ADMIN', 'input': '요즘 잠을 잘 못자겠어'}\n",
      "Processing input: user_nick=ADMIN, user_input=요즘 잠을 잘 못자겠어\n",
      "Is problem flag: True\n",
      "고민임\n"
     ]
    },
    {
     "name": "stderr",
     "output_type": "stream",
     "text": [
      "127.0.0.1 - - [05/Sep/2024 11:14:24] \"POST /chatbot HTTP/1.1\" 200 -\n"
     ]
    },
    {
     "name": "stdout",
     "output_type": "stream",
     "text": [
      "Extracted reason: '정신건강'\n",
      "Problem reason: 정신건강\n",
      "정렬된 형태소 분석 결과: ['요즘/NNG', '잠/NNG', '을/JKS', '잘/VV', '못자겠어/VV']\n"
     ]
    },
    {
     "name": "stderr",
     "output_type": "stream",
     "text": [
      "127.0.0.1 - - [05/Sep/2024 11:14:36] \"OPTIONS /chatbot HTTP/1.1\" 200 -\n"
     ]
    },
    {
     "name": "stdout",
     "output_type": "stream",
     "text": [
      "Received data: {'user_nick': 'ADMIN', 'input': '내가 언제 살기가 힘들다고 했어'}\n",
      "Processing input: user_nick=ADMIN, user_input=내가 언제 살기가 힘들다고 했어\n"
     ]
    },
    {
     "name": "stderr",
     "output_type": "stream",
     "text": [
      "127.0.0.1 - - [05/Sep/2024 11:14:49] \"OPTIONS /chatbot HTTP/1.1\" 200 -\n"
     ]
    },
    {
     "name": "stdout",
     "output_type": "stream",
     "text": [
      "Received data: {'user_nick': 'ADMIN', 'input': '요즘 취직이 너무 안 된다'}\n",
      "Processing input: user_nick=ADMIN, user_input=요즘 취직이 너무 안 된다\n",
      "Is problem flag: True\n",
      "고민임\n"
     ]
    },
    {
     "name": "stderr",
     "output_type": "stream",
     "text": [
      "127.0.0.1 - - [05/Sep/2024 11:15:12] \"POST /chatbot HTTP/1.1\" 200 -\n"
     ]
    },
    {
     "name": "stdout",
     "output_type": "stream",
     "text": [
      "Extracted reason: '취업/진로'\n",
      "Problem reason: 취업/진로\n",
      "정렬된 형태소 분석 결과: ['요즘/NNG', '취직/NNG', '이/JKS', '너무/MAG', '안/NNG', '된다/VV']\n"
     ]
    },
    {
     "name": "stderr",
     "output_type": "stream",
     "text": [
      "127.0.0.1 - - [05/Sep/2024 11:15:15] \"OPTIONS /chatbot HTTP/1.1\" 200 -\n"
     ]
    },
    {
     "name": "stdout",
     "output_type": "stream",
     "text": [
      "Received data: {'user_nick': 'ADMIN', 'input': '우울증이 너무 심하고 죽고싶을 때도 있는데 어떻게 해 ?'}\n",
      "Processing input: user_nick=ADMIN, user_input=우울증이 너무 심하고 죽고싶을 때도 있는데 어떻게 해 ?\n"
     ]
    },
    {
     "name": "stderr",
     "output_type": "stream",
     "text": [
      "127.0.0.1 - - [05/Sep/2024 11:15:17] \"POST /chatbot HTTP/1.1\" 200 -\n"
     ]
    },
    {
     "name": "stdout",
     "output_type": "stream",
     "text": [
      "Error processing input: Error code: 429 - {'error': {'message': 'Rate limit reached for gpt-4 in organization org-SIcnAqNXSM7l2JU29es0nyVd on requests per min (RPM): Limit 3, Used 3, Requested 1. Please try again in 20s. Visit https://platform.openai.com/account/rate-limits to learn more. You can increase your rate limit by adding a payment method to your account at https://platform.openai.com/account/billing.', 'type': 'requests', 'param': None, 'code': 'rate_limit_exceeded'}}\n",
      "Is problem flag: True\n",
      "고민임\n"
     ]
    },
    {
     "name": "stderr",
     "output_type": "stream",
     "text": [
      "127.0.0.1 - - [05/Sep/2024 11:15:58] \"POST /chatbot HTTP/1.1\" 200 -\n"
     ]
    },
    {
     "name": "stdout",
     "output_type": "stream",
     "text": [
      "Extracted reason: '정신건강'\n",
      "Problem reason: 정신건강\n",
      "정렬된 형태소 분석 결과: ['우울증/NNG', '이/JKS', '너무/MAG', '심하고/VA', '죽고싶을/VV', '때/NNG', '도/JKS', '있는데/VA', '어떻게/VA', '해/NNG', '?/SF']\n"
     ]
    },
    {
     "name": "stderr",
     "output_type": "stream",
     "text": [
      "127.0.0.1 - - [05/Sep/2024 11:15:59] \"OPTIONS /chatbot HTTP/1.1\" 200 -\n"
     ]
    },
    {
     "name": "stdout",
     "output_type": "stream",
     "text": [
      "Received data: {'user_nick': 'ADMIN', 'input': '우울증이 너무 심해서 자살하고 싶어.. 더이상 왜 살아야 하는 지 잘 모르겠어'}\n",
      "Processing input: user_nick=ADMIN, user_input=우울증이 너무 심해서 자살하고 싶어.. 더이상 왜 살아야 하는 지 잘 모르겠어\n",
      "Is problem flag: True\n",
      "고민임\n"
     ]
    },
    {
     "name": "stderr",
     "output_type": "stream",
     "text": [
      "127.0.0.1 - - [05/Sep/2024 11:16:22] \"OPTIONS /chatbot HTTP/1.1\" 200 -\n"
     ]
    },
    {
     "name": "stdout",
     "output_type": "stream",
     "text": [
      "Received data: {'user_nick': 'ADMIN', 'input': '요즘 뭘 해도 무기력하고 힘이 없어.. 사는 게 너무 힘들다'}\n",
      "Processing input: user_nick=ADMIN, user_input=요즘 뭘 해도 무기력하고 힘이 없어.. 사는 게 너무 힘들다\n"
     ]
    },
    {
     "name": "stderr",
     "output_type": "stream",
     "text": [
      "127.0.0.1 - - [05/Sep/2024 11:16:42] \"POST /chatbot HTTP/1.1\" 200 -\n"
     ]
    },
    {
     "name": "stdout",
     "output_type": "stream",
     "text": [
      "Extracted reason: '정신건강'\n",
      "Problem reason: 정신건강\n",
      "정렬된 형태소 분석 결과: ['우울증/NNG', '이/JKS', '너무/MAG', '심해서/VA', '자살/NNG', '하고/JKS', '싶어/VV', '../SF', '더/NNG', '이상/NNG', '왜/NNG', '살아야/VV', '하는/VV', '지/VV', '잘/VV', '모르겠어/VV']\n",
      "Is problem flag: True\n",
      "고민임\n"
     ]
    },
    {
     "name": "stderr",
     "output_type": "stream",
     "text": [
      "127.0.0.1 - - [05/Sep/2024 11:17:04] \"POST /chatbot HTTP/1.1\" 200 -\n"
     ]
    },
    {
     "name": "stdout",
     "output_type": "stream",
     "text": [
      "Extracted reason: '정신건강'\n",
      "Problem reason: 정신건강\n",
      "정렬된 형태소 분석 결과: ['요즘/NNG', '뭘/NNG', '해도/NNG', '무기/NNG', '력/XSN', '하고/JKS', '힘/NNG', '이/JKS', '없어/VA', '../SF', '사는/VV', '게/NNG', '너무/MAG', '힘들다/VA']\n"
     ]
    },
    {
     "name": "stderr",
     "output_type": "stream",
     "text": [
      "127.0.0.1 - - [05/Sep/2024 11:17:35] \"OPTIONS /api/interpret HTTP/1.1\" 200 -\n"
     ]
    },
    {
     "name": "stdout",
     "output_type": "stream",
     "text": [
      "recived data:  {'user_select': '연애', 'cards': ['The Hierophant', 'Four of Cups', 'Six of Wands'], 'user_input': '요즘 뭘 해도 무기력하고 힘이 없어.. 사는 게 너무 힘들다'}\n",
      "요즘 뭘 해도 무기력하고 힘이 없어.. 사는 게 너무 힘들다\n"
     ]
    },
    {
     "name": "stderr",
     "output_type": "stream",
     "text": [
      "127.0.0.1 - - [05/Sep/2024 11:17:39] \"POST /api/interpret HTTP/1.1\" 500 -\n"
     ]
    },
    {
     "name": "stdout",
     "output_type": "stream",
     "text": [
      "Error 'tuple' object has no attribute 'get_json'\n"
     ]
    },
    {
     "name": "stderr",
     "output_type": "stream",
     "text": [
      "127.0.0.1 - - [05/Sep/2024 11:22:40] \"OPTIONS /api/interpret HTTP/1.1\" 200 -\n"
     ]
    },
    {
     "name": "stdout",
     "output_type": "stream",
     "text": [
      "recived data:  {'user_select': '오늘의 운세', 'cards': ['Three of Cups', 'The Lovers', 'Nine of Swords'], 'user_input': '요즘 뭘 해도 무기력하고 힘이 없어.. 사는 게 너무 힘들다'}\n",
      "요즘 뭘 해도 무기력하고 힘이 없어.. 사는 게 너무 힘들다\n"
     ]
    },
    {
     "name": "stderr",
     "output_type": "stream",
     "text": [
      "127.0.0.1 - - [05/Sep/2024 11:22:43] \"POST /api/interpret HTTP/1.1\" 500 -\n"
     ]
    },
    {
     "name": "stdout",
     "output_type": "stream",
     "text": [
      "Error 'tuple' object has no attribute 'get_json'\n"
     ]
    },
    {
     "name": "stderr",
     "output_type": "stream",
     "text": [
      "127.0.0.1 - - [05/Sep/2024 11:23:50] \"OPTIONS /api/interpret HTTP/1.1\" 200 -\n"
     ]
    },
    {
     "name": "stdout",
     "output_type": "stream",
     "text": [
      "recived data:  {'user_select': '연애', 'cards': ['The Moon', 'Queen of Pentacles', 'King of Wands'], 'user_input': '요즘 뭘 해도 무기력하고 힘이 없어.. 사는 게 너무 힘들다'}\n",
      "요즘 뭘 해도 무기력하고 힘이 없어.. 사는 게 너무 힘들다\n"
     ]
    },
    {
     "name": "stderr",
     "output_type": "stream",
     "text": [
      "127.0.0.1 - - [05/Sep/2024 11:23:54] \"POST /api/interpret HTTP/1.1\" 500 -\n"
     ]
    },
    {
     "name": "stdout",
     "output_type": "stream",
     "text": [
      "Error 'tuple' object has no attribute 'get_json'\n"
>>>>>>> refs/rewritten/main-19
     ]
    }
   ],
   "source": [
    "from flask import Flask, request, jsonify\n",
    "from flask_cors import CORS\n",
    "from chatbot_test import ChatBotTs, load_api_key\n",
    "from OktSentiment import Sentiment\n",
    "from tarot import TarotBot\n",
    "\n",
    "app = Flask(__name__)\n",
    "CORS(app)\n",
    "\n",
    "# ChatBot 인스턴스 생성\n",
    "api_key = load_api_key()\n",
    "if not api_key:\n",
    "    raise ValueError(\"API key not found or invalid. Please check your api_key.txt file.\")\n",
<<<<<<< HEAD
    "chatbot = ChatBotTs(api_key, 'c:/Users/SMHRD/원인-대처종합.csv')  # CSV 파일 경로를 적절히 수정하세요\n",
=======
    "chatbot = ChatBot(api_key, \"C:\\\\Users\\\\SMHRD\\\\Desktop\\\\유형,대처,유형설명(마카님 삭제).csv\")  # CSV 파일 경로를 적절히 수정하세요\n",
>>>>>>> refs/rewritten/main-19
    "#C:\\Users\\SMHRD\\Documents\\카카오톡 받은 파일\\원인-대처종합.csv //c:/Users/SMHRD/원인-대처종합.csv\n",
    "# Sentiment 인스턴스 생성\n",
    "sentiment_analyzer = Sentiment()\n",
    "\n",
    "@app.route(\"/chatbot\", methods=[\"POST\"])\n",
    "def chat():\n",
    "    data = request.json\n",
    "    print(\"Received data:\", data)\n",
    "    user_nick = data.get(\"user_nick\")\n",
    "    user_input = data.get(\"input\")\n",
    "    \n",
    "    if user_input:\n",
    "        try:\n",
    "            response = chatbot.process_input(user_nick, user_input)\n",
    "            if response.get(\"isProblem\"):\n",
    "                # 형태소 분석 및 감정 분석 수행\n",
    "                sentiment_results = sentiment_analyzer.parse([user_input])\n",
    "                # 결과가 딕셔너리 형태로 바꾸고 소수점 소수점 둘쨰자리까지\n",
    "                if 'polarity' in sentiment_results and len(sentiment_results['polarity']) > 0:\n",
    "                    sentiment_results = sentiment_results['polarity'][0]\n",
    "                    sentiment_results = {key: round(value * 100, 2) for key, value in sentiment_results.items()}\n",
    "\n",
    "                response.update({\n",
    "                    \"sentiment\": sentiment_results\n",
    "                })\n",
    "\n",
    "            return jsonify(response)\n",
    "        except Exception as e:\n",
    "            print(f\"Error occurred: {str(e)}\")\n",
    "            return jsonify({\"error\": f\"An error occurred while processing your request: {str(e)}\"}), 500\n",
    "    else:\n",
    "        return jsonify({\"error\": \"No input provided\"}), 400\n",
    "\n",
    "# 타로카드 라우트\n",
    "@app.route(\"/api/interpret\",methods=[\"POST\"])\n",
    "\n",
    "def tarot_card():\n",
    "    data = request.json\n",
    "    cards = data.get(\"cards\")\n",
    "    user_input = data.get(\"user_input\")\n",
    "    user_select = data.get(\"user_select\")\n",
    "    print(\"recived data: \",data)\n",
    "    if not cards or len(cards) != 3:\n",
    "        return jsonify({\"error\": \"카드를 다시 선택해 주세요.\"}),400\n",
    "    \n",
    "    key_path = \"C:\\\\Users\\\\SMHRD\\\\Desktop\\\\ky_api.txt\"\n",
    "    try:\n",
    "        tarot = TarotBot(api_key_path=key_path)\n",
    "        if user_input:\n",
    "            print(user_input)\n",
    "            response = tarot.interpret_cards(user_input,cards)\n",
    "        else:\n",
    "            response = tarot.general_reading(user_select,cards)\n",
    "        print(\"response: \",response.get_json())\n",
    "        return response\n",
    "\n",
    "    except Exception as e:\n",
    "        print(\"Error\",str(e))\n",
    "        return jsonify({\"error\":str(e)}),500\n",
    "\n",
    "if __name__ == \"__main__\":\n",
    "    app.run(port=7000)  "
   ]
  }
 ],
 "metadata": {
  "kernelspec": {
   "display_name": "base",
   "language": "python",
   "name": "python3"
  },
  "language_info": {
   "codemirror_mode": {
    "name": "ipython",
    "version": 3
   },
   "file_extension": ".py",
   "mimetype": "text/x-python",
   "name": "python",
   "nbconvert_exporter": "python",
   "pygments_lexer": "ipython3",
   "version": "3.12.4"
  }
 },
 "nbformat": 4,
 "nbformat_minor": 2
}
