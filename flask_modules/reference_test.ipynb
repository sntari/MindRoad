{
 "cells": [
  {
   "cell_type": "code",
   "execution_count": null,
   "metadata": {},
   "outputs": [],
   "source": [
    "import pandas as pd\n",
    "import numpy as np\n",
    "import csv\n",
    "from transformers import AutoTokenizer, AutoModel\n",
    "import torch\n",
    "from sklearn.metrics.pairwise import cosine_similarity"
   ]
  },
  {
   "cell_type": "code",
   "execution_count": null,
   "metadata": {},
   "outputs": [],
   "source": [
    "class ResponseSearch():\n",
    "    \n",
    "    def __init__(self,csv_file_path):\n",
    "        self.csv_file_path = csv_file_path\n",
    "        self.data = self._load_data()\n",
    "        self.tokenizer = AutoTokenizer.from_pretrained(\"\")\n",
    "        self.model = AutoModel.from_pretrained(\"\")\n",
    "\n",
    "    def _load_data(self):\n",
    "        data = []\n",
    "        with open(self.csv_file_path,mode=\"r\",encoding=\"utf-8\") as file:\n",
    "            reader = csv.DictReader(file)\n",
    "            for row in reader:\n",
    "                embedding = np.fromstring\n",
    "\n",
    "        \n"
   ]
  }
 ],
 "metadata": {
  "kernelspec": {
   "display_name": "base",
   "language": "python",
   "name": "python3"
  },
  "language_info": {
   "name": "python",
   "version": "3.11.7"
  }
 },
 "nbformat": 4,
 "nbformat_minor": 2
}
