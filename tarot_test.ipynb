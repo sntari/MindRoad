{
 "cells": [
  {
   "cell_type": "code",
   "execution_count": 70,
   "metadata": {},
   "outputs": [
    {
     "name": "stdout",
     "output_type": "stream",
     "text": [
      " * Serving Flask app '__main__'\n",
      " * Debug mode: off\n"
     ]
    },
    {
     "name": "stderr",
     "output_type": "stream",
     "text": [
      "WARNING: This is a development server. Do not use it in a production deployment. Use a production WSGI server instead.\n",
      " * Running on http://127.0.0.1:7000\n",
      "Press CTRL+C to quit\n",
      "127.0.0.1 - - [02/Sep/2024 16:03:23] \"OPTIONS /api/interpret HTTP/1.1\" 200 -\n"
     ]
    },
    {
     "name": "stdout",
     "output_type": "stream",
     "text": [
      "recived data:  {'user_select': '오늘의 운세', 'cards': ['Eight of Wands', 'The World', 'The Moon']}\n"
     ]
    },
    {
     "name": "stderr",
     "output_type": "stream",
     "text": [
      "127.0.0.1 - - [02/Sep/2024 16:03:26] \"POST /api/interpret HTTP/1.1\" 200 -\n"
     ]
    },
    {
     "name": "stdout",
     "output_type": "stream",
     "text": [
      "응답내용 {'user_select': '오늘의 운세', 'cards': 'Eight of Wands, The World, The Moon', 'text': '**카드 의미 한줄 요약:**\\n- Eight of Wands: 빠른 진행과 변화\\n- The World: 완성과 성취\\n- The Moon: 불확실성과 직감\\n\\n**오늘의 운세 종합 해석:**\\n오늘 당신의 하루는 빠르게 진행되는 변화와 성취의 기운이 가득할 것입니다. Eight of Wands는 일이 급속도로 진전될 수 있음을 암시하며, The World는 그 결과가 매우 긍정적일 것임을 예고합니다. 그러나 The Moon이 나타난 것을 보면, 이러한 변화와 성취 속에서 불확실함과 직감에 의존해야 하는 상황도 예상됩니다. 직감에 귀 기울이고, 불확실한 상황에서도 침착함을 유지한다면, 오늘 당신에게 매우 의미 있는 성취를 이룰 수 있는 날이 될 것입니다.'}\n",
      "response:  <Response 1494 bytes [200 OK]>\n"
     ]
    }
   ],
   "source": [
    "from flask import Flask, request, jsonify\n",
    "from langchain_core.prompts import PromptTemplate\n",
    "from langchain.chains import LLMChain\n",
    "from langchain_openai import ChatOpenAI\n",
    "from flask_cors import CORS\n",
    "\n",
    "import csv\n",
    "\n",
    "import requests\n",
    "import threading\n",
    "\n",
    "app = Flask(__name__)\n",
    "CORS(app)\n",
    "\n",
    "# 타로카드 라우트\n",
    "@app.route(\"/api/interpret\",methods=[\"POST\"])\n",
    "\n",
    "def tarot_card():\n",
    "    data = request.json\n",
    "    cards = data.get(\"cards\")\n",
    "    reason = data.get(\"reason\")\n",
    "    user_input = data.get(\"user_input\")\n",
    "    user_select = data.get(\"user_select\")\n",
    "    print(\"recived data: \",data)\n",
    "    if not cards or len(cards) != 3:\n",
    "        return jsonify({\"error\": \"카드를 다시 선택해 주세요.\"}),400\n",
    "    \n",
    "    class TarotBot:\n",
    "        def __init__(self, api_key_path):\n",
    "            #OpenAI API 설정\n",
    "            self.api_key = self.load_api_key(api_key_path)\n",
    "            self.model = ChatOpenAI(openai_api_key = self.api_key, model=\"gpt-4o\")\n",
    "\n",
    "        def load_api_key(self, file_path):\n",
    "            with open(file_path, 'r') as file:\n",
    "                api_key = file.read().strip()\n",
    "                return api_key\n",
    "            \n",
    "        # 사용자 고민이 있을때 타로 해석\n",
    "        def interpret_cards(self, user_input, cards):\n",
    "            try:\n",
    "                tarot_template_reason = PromptTemplate(\n",
    "                    template=(\n",
    "                        \"사용자의 질문: '{user_input}'\\n\"\n",
    "                        \"타로카드: {cards}\\n\"\n",
    "                        \"{cards}의 의미는 한줄로 간략히 출력하고, {user_input}를 주제로 종합한 해석은 최대 500자 이내로 출력해주세요.\"\n",
    "                    ),\n",
    "                    input_variables=[\"user_input\", \"cards\"]\n",
    "                )\n",
    "\n",
    "                reason_chain = LLMChain(llm=self.model, prompt_template=tarot_template_reason)\n",
    "                reason_response = reason_chain.run(input=user_input, cards=cards)\n",
    "                answer = reason_response.strip()\n",
    "                \n",
    "                if len(answer) > 500:\n",
    "                    answer = answer[:500]\n",
    "\n",
    "                return jsonify({\"answer\": answer})\n",
    "\n",
    "            except Exception as e:\n",
    "                return \"해석 중 오류가 발생했습니다.\"\n",
    "            \n",
    "        # 일반적인 타로 해석\n",
    "        def general_reading(self, user_select, cards):\n",
    "            cards_str = \", \".join(cards)\n",
    "            try:\n",
    "                tarot_template_genal = PromptTemplate(\n",
    "                    template=(\n",
    "                        \"사용자 선택 카테고리: '{user_select}'\\n\"\n",
    "                        \"타로카드: {cards}\\n\"\n",
    "                        \"{cards}의 의미는 한줄로 간략히 출력하고, {user_select}를 주제로 종합한 해석은 최대 500자 이내로 출력해주세요.\\n\"\n",
    "                    ),\n",
    "                    input_variables=[\"user_select\", \"cards\"]\n",
    "                )\n",
    "\n",
    "                general_chain = LLMChain(llm=self.model, prompt=tarot_template_genal)\n",
    "                general_response = general_chain.invoke({\"user_select\":user_select,\"cards\":cards_str})\n",
    "                \n",
    "                if isinstance(general_response, str):\n",
    "                    answer = general_response.strip()\n",
    "                else:\n",
    "                    answer = general_response\n",
    "                \n",
    "                if len(answer) > 500:\n",
    "                    answer = answer[:500]\n",
    "\n",
    "                \n",
    "                print(\"응답내용\",answer)\n",
    "\n",
    "                return jsonify({\"answer\": answer})\n",
    "\n",
    "            except Exception as e:\n",
    "                print((f\"Error: {e}\"))\n",
    "                return \"일반 해석 중 오류가 발생했습니다.\"\n",
    "            \n",
    "\n",
    "    key_path = \"C:\\\\Users\\\\SMHRD\\\\Desktop\\\\ky_api.txt\"\n",
    "    try:\n",
    "        tarot = TarotBot(api_key_path=key_path)\n",
    "        if reason:\n",
    "            response = tarot.interpret_cards(user_input,cards)\n",
    "        else:\n",
    "            response = tarot.general_reading(user_select,cards)\n",
    "        print(\"response: \",response)\n",
    "        return response\n",
    "    \n",
    "    except Exception as e:\n",
    "        print(\"Error\",str(e))\n",
    "        return jsonify({\"error\":str(e)}),500\n",
    "\n",
    "    \n",
    "\n",
    "\n",
    "if __name__ == \"__main__\":\n",
    "    app.run(port=7000) #Flask 서버 포트 설정"
   ]
  }
 ],
 "metadata": {
  "kernelspec": {
   "display_name": "base",
   "language": "python",
   "name": "python3"
  },
  "language_info": {
   "codemirror_mode": {
    "name": "ipython",
    "version": 3
   },
   "file_extension": ".py",
   "mimetype": "text/x-python",
   "name": "python",
   "nbconvert_exporter": "python",
   "pygments_lexer": "ipython3",
   "version": "3.11.7"
  }
 },
 "nbformat": 4,
 "nbformat_minor": 2
}
