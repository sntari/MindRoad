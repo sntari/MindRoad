{
 "cells": [
  {
   "cell_type": "code",
   "execution_count": 39,
   "metadata": {},
   "outputs": [
    {
     "name": "stdout",
     "output_type": "stream",
     "text": [
      " * Serving Flask app '__main__'\n",
      " * Debug mode: off\n"
     ]
    },
    {
     "name": "stderr",
     "output_type": "stream",
     "text": [
      "WARNING: This is a development server. Do not use it in a production deployment. Use a production WSGI server instead.\n",
      " * Running on http://127.0.0.1:7000\n",
      "Press CTRL+C to quit\n",
<<<<<<< HEAD
      "127.0.0.1 - - [03/Sep/2024 16:50:43] \"OPTIONS /chatbot HTTP/1.1\" 200 -\n"
=======
      "127.0.0.1 - - [03/Sep/2024 17:39:19] \"OPTIONS /chatbot HTTP/1.1\" 200 -\n"
>>>>>>> refs/rewritten/병합
     ]
    },
    {
     "name": "stdout",
     "output_type": "stream",
     "text": [
<<<<<<< HEAD
      "Received data: {'user_nick': '12', 'input': '취업준비가 고민이에여'}\n",
      "Processing input: user_nick=12, user_input=취업준비가 고민이에여\n",
      "Is problem flag: False\n",
      "고민이 아님\n"
=======
      "Received data: {'user_nick': '12', 'input': '안녕하세요'}\n",
      "Processing input: user_nick=12, user_input=안녕하세요\n"
>>>>>>> refs/rewritten/병합
     ]
    },
    {
     "name": "stderr",
     "output_type": "stream",
     "text": [
<<<<<<< HEAD
      "127.0.0.1 - - [03/Sep/2024 16:51:15] \"POST /chatbot HTTP/1.1\" 200 -\n",
      "127.0.0.1 - - [03/Sep/2024 16:52:05] \"OPTIONS /chatbot HTTP/1.1\" 200 -\n"
=======
      "c:\\Users\\smhrd\\Desktop\\MindRoad\\MindRoad\\chatbot_test.py:33: LangChainDeprecationWarning: The class `LLMChain` was deprecated in LangChain 0.1.17 and will be removed in 1.0. Use RunnableSequence, e.g., `prompt | llm` instead.\n",
      "  ck_chain = LLMChain(llm=self.model, prompt=template)\n",
      "c:\\Users\\smhrd\\Desktop\\MindRoad\\MindRoad\\chatbot_test.py:34: LangChainDeprecationWarning: The method `Chain.run` was deprecated in langchain 0.1.0 and will be removed in 1.0. Use invoke instead.\n",
      "  response = ck_chain.run(user_input=user_input).strip()\n"
>>>>>>> refs/rewritten/병합
     ]
    },
    {
     "name": "stdout",
     "output_type": "stream",
     "text": [
<<<<<<< HEAD
      "Received data: {'user_nick': '12', 'input': '취업준비가 너무 힘들어요'}\n",
      "Processing input: user_nick=12, user_input=취업준비가 너무 힘들어요\n",
=======
      "Is problem flag: False\n"
     ]
    },
    {
     "name": "stderr",
     "output_type": "stream",
     "text": [
      "127.0.0.1 - - [03/Sep/2024 17:39:23] \"POST /chatbot HTTP/1.1\" 200 -\n",
      "127.0.0.1 - - [03/Sep/2024 17:39:25] \"OPTIONS /chatbot HTTP/1.1\" 200 -\n"
     ]
    },
    {
     "name": "stdout",
     "output_type": "stream",
     "text": [
      "Received data: {'user_nick': '12', 'input': '시발년아'}\n",
      "Processing input: user_nick=12, user_input=시발년아\n",
      "Is problem flag: False\n"
     ]
    },
    {
     "name": "stderr",
     "output_type": "stream",
     "text": [
      "127.0.0.1 - - [03/Sep/2024 17:39:49] \"POST /chatbot HTTP/1.1\" 200 -\n",
      "127.0.0.1 - - [03/Sep/2024 17:40:23] \"OPTIONS /chatbot HTTP/1.1\" 200 -\n"
     ]
    },
    {
     "name": "stdout",
     "output_type": "stream",
     "text": [
      "Received data: {'user_nick': '12', 'input': '나는 코딩을 하고 있었는데 빌어먹을 억까가 너무 가득해서 스트레스 받아서 미쳐버릴 것 같아'}\n",
      "Processing input: user_nick=12, user_input=나는 코딩을 하고 있었는데 빌어먹을 억까가 너무 가득해서 스트레스 받아서 미쳐버릴 것 같아\n",
>>>>>>> refs/rewritten/병합
      "Is problem flag: True\n",
      "고민임\n",
      "Extracted reason: '일반고민'\n",
      "Problem reason: 일반고민\n",
      "먼저 내가 방어적인 태도를 보인다는 것을 알아차리고 계시기에 어떤 부분 때문에 다른 사람들이 나를 이상하게 볼 것 같은지 원인이 되었던 경험을 탐색해 본다면 좋을 것 같습니다. 현재 드러난 나의 어려움에만 집중하기 보다는 과거에 이런 경험들로 인하여 이렇게 행동할 수밖에 없는 과정을 알아차려 본다면 방어 성향을 타당하게 바라볼 수 있을 것입니다.  또한 주위 사람들 중에서 가장 편안하게 대화할 수 있는 안전한 상대에게 내가 할 수 있는 만큼만 조금씩 마음을 표현해보는 경험도 도움이 될 수 있습니다. 이런 경험은 이전에 확고하게 자리잡은 나의 생각(솔직하게 마음을 표현하면 이상하게 바라볼 거야)과 다른 반응을 경험할 수 있는 기회가 될 수 있어 도움이 될 것입니다.. 만일 그런 대상이 없다면 상담사의 도움을 통해 이런 고민을 나누고 상담사와의 관계에서 마음을 표현해보는 기회를 가지시면 좋을 것 같습니다.\n",
      "참조자료 먼저 내가 방어적인 태도를 보인다는 것을 알아차리고 계시기에 어떤 부분 때문에 다른 사람들이 나를 이상하게 볼 것 같은지 원인이 되었던 경험을 탐색해 본다면 좋을 것 같습니다. 현재 드러난 나의 어려움에만 집중하기 보다는 과거에 이런 경험들로 인하여 이렇게 행동할 수밖에 없는 과정을 알아차려 본다면 방어 성향을 타당하게 바라볼 수 있을 것입니다.  또한 주위 사람들 중에서 가장 편안하게 대화할 수 있는 안전한 상대에게 내가 할 수 있는 만큼만 조금씩 마음을 표현해보는 경험도 도움이 될 수 있습니다. 이런 경험은 이전에 확고하게 자리잡은 나의 생각(솔직하게 마음을 표현하면 이상하게 바라볼 거야)과 다른 반응을 경험할 수 있는 기회가 될 수 있어 도움이 될 것입니다.. 만일 그런 대상이 없다면 상담사의 도움을 통해 이런 고민을 나누고 상담사와의 관계에서 마음을 표현해보는 기회를 가지시면 좋을 것 같습니다.\n",
      "gpt응답 스트레스는 모두를 괴롭히는 것이며, 특히 코딩과 같은 집중력이 필요한 작업에서는 더욱 그렇습니다. 우선, 당신이 스트레스를 받고 있다는 것을 인식한 것은 긍정적인 첫 단계입니다. 어떤 부분이 스트레스를 주는지 파악하려 노력해보세요. 혹시 특정한 부분에서 어려움을 겪고 있다면, 그 부분을 보완하는 방법을 찾아보는 것이 도움이 될 수 있습니다.\n",
      "\n",
      "또한, 스트레스를 해소하기 위해 일상에서 휴식을 취하는 것 역시 중요합니다. 친구나 가족과 이야기하거나, 취미 생활에 시간을 할애하는 것도 좋습니다. 이를 통해 일시적으로라도 업무에서 벗어나 신경을 풀 수 있습니다. \n",
      "\n",
      "마지막으로, 상담사에게 도움을 청하는 것도 고려해보세요. 스트레스 관리 전문가들은 당신의 문제를 이해하고, 효과적인 대응 방법을 제시하는 데 도움이 될 수 있습니다. 스트레스를 극복하는 것은 쉽지 않지만, 자신을 돌보는 것이 가장 중요합니다.\n"
     ]
    },
    {
     "name": "stderr",
     "output_type": "stream",
     "text": [
<<<<<<< HEAD
      "127.0.0.1 - - [03/Sep/2024 16:52:07] \"POST /chatbot HTTP/1.1\" 200 -\n"
=======
      "127.0.0.1 - - [03/Sep/2024 17:41:11] \"POST /chatbot HTTP/1.1\" 200 -\n"
>>>>>>> refs/rewritten/병합
     ]
    },
    {
     "name": "stdout",
     "output_type": "stream",
     "text": [
<<<<<<< HEAD
      "Extracted reason: '취업/진로'\n",
      "Problem reason: 취업/진로\n",
      "정렬된 형태소 분석 결과: ['취업/NNG', '준비/NNG', '가/JKS', '너무/MAG', '힘들어요/VA']\n"
=======
      "정렬된 형태소 분석 결과: ['나/NNG', '는/JKS', '코딩/NNG', '을/JKS', '하고/VV', '있었는데/VA', '빌어먹을/NNG', '억/NNG', '까가/VV', '너무/MAG', '가득해서/VA', '스트레스/NNG', '받아서/VV', '미쳐/VA', '버릴/VV', '것/NNG', '같아/VA']\n"
>>>>>>> refs/rewritten/병합
     ]
    },
    {
     "name": "stderr",
     "output_type": "stream",
     "text": [
<<<<<<< HEAD
      "127.0.0.1 - - [03/Sep/2024 16:52:58] \"OPTIONS /chatbot HTTP/1.1\" 200 -\n"
=======
      "127.0.0.1 - - [03/Sep/2024 17:44:36] \"OPTIONS /chatbot HTTP/1.1\" 200 -\n"
>>>>>>> refs/rewritten/병합
     ]
    },
    {
     "name": "stdout",
     "output_type": "stream",
     "text": [
<<<<<<< HEAD
      "Received data: {'user_nick': '12', 'input': '취업준비가 고민이에요'}\n",
      "Processing input: user_nick=12, user_input=취업준비가 고민이에요\n",
      "Is problem flag: True\n",
      "고민임\n"
=======
      "Received data: {'user_nick': '12', 'input': '내 고민의 카테고리를 설명해줘 뭔 카테고리야 빨리 대답해 물리적으로 부숴버릴거야'}\n",
      "Processing input: user_nick=12, user_input=내 고민의 카테고리를 설명해줘 뭔 카테고리야 빨리 대답해 물리적으로 부숴버릴거야\n",
      "Is problem flag: False\n"
     ]
    },
    {
     "name": "stderr",
     "output_type": "stream",
     "text": [
      "127.0.0.1 - - [03/Sep/2024 17:44:43] \"POST /chatbot HTTP/1.1\" 200 -\n",
      "127.0.0.1 - - [03/Sep/2024 17:45:03] \"OPTIONS /chatbot HTTP/1.1\" 200 -\n"
     ]
    },
    {
     "name": "stdout",
     "output_type": "stream",
     "text": [
      "Received data: {'user_nick': '12', 'input': 'GPT가 개억까 했어. 네 친구니까 해명해'}\n",
      "Processing input: user_nick=12, user_input=GPT가 개억까 했어. 네 친구니까 해명해\n",
      "Is problem flag: False\n"
     ]
    },
    {
     "name": "stderr",
     "output_type": "stream",
     "text": [
      "127.0.0.1 - - [03/Sep/2024 17:45:15] \"POST /chatbot HTTP/1.1\" 200 -\n",
      "127.0.0.1 - - [03/Sep/2024 17:45:58] \"OPTIONS /chatbot HTTP/1.1\" 200 -\n"
     ]
    },
    {
     "name": "stdout",
     "output_type": "stream",
     "text": [
      "Received data: {'user_nick': '12', 'input': '기술적인 한계! 내가 지금 너의 뚝배기를 깨려는 것도 기술적 한계로 막지 못하겠지???'}\n",
      "Processing input: user_nick=12, user_input=기술적인 한계! 내가 지금 너의 뚝배기를 깨려는 것도 기술적 한계로 막지 못하겠지???\n",
      "Is problem flag: False\n"
     ]
    },
    {
     "name": "stderr",
     "output_type": "stream",
     "text": [
      "127.0.0.1 - - [03/Sep/2024 17:46:05] \"POST /chatbot HTTP/1.1\" 200 -\n",
      "127.0.0.1 - - [03/Sep/2024 17:46:13] \"OPTIONS /chatbot HTTP/1.1\" 200 -\n"
     ]
    },
    {
     "name": "stdout",
     "output_type": "stream",
     "text": [
      "Received data: {'user_nick': '12', 'input': 'ㅗ'}\n",
      "Processing input: user_nick=12, user_input=ㅗ\n",
      "Is problem flag: False\n"
     ]
    },
    {
     "name": "stderr",
     "output_type": "stream",
     "text": [
      "127.0.0.1 - - [03/Sep/2024 17:46:39] \"POST /chatbot HTTP/1.1\" 200 -\n",
      "127.0.0.1 - - [03/Sep/2024 17:46:42] \"OPTIONS /chatbot HTTP/1.1\" 200 -\n"
     ]
    },
    {
     "name": "stdout",
     "output_type": "stream",
     "text": [
      "Received data: {'user_nick': '12', 'input': 'Flask를 pie Chart로 잘못 얻어들을 확률에 대해서 설명해줘. 객관적인 근거도 3가지 정도'}\n",
      "Processing input: user_nick=12, user_input=Flask를 pie Chart로 잘못 얻어들을 확률에 대해서 설명해줘. 객관적인 근거도 3가지 정도\n",
      "Is problem flag: True\n",
      "고민임\n",
      "Extracted reason: '일반고민'\n",
      "Problem reason: 일반고민\n",
      "먼저 내가 방어적인 태도를 보인다는 것을 알아차리고 계시기에 어떤 부분 때문에 다른 사람들이 나를 이상하게 볼 것 같은지 원인이 되었던 경험을 탐색해 본다면 좋을 것 같습니다. 현재 드러난 나의 어려움에만 집중하기 보다는 과거에 이런 경험들로 인하여 이렇게 행동할 수밖에 없는 과정을 알아차려 본다면 방어 성향을 타당하게 바라볼 수 있을 것입니다.  또한 주위 사람들 중에서 가장 편안하게 대화할 수 있는 안전한 상대에게 내가 할 수 있는 만큼만 조금씩 마음을 표현해보는 경험도 도움이 될 수 있습니다. 이런 경험은 이전에 확고하게 자리잡은 나의 생각(솔직하게 마음을 표현하면 이상하게 바라볼 거야)과 다른 반응을 경험할 수 있는 기회가 될 수 있어 도움이 될 것입니다.. 만일 그런 대상이 없다면 상담사의 도움을 통해 이런 고민을 나누고 상담사와의 관계에서 마음을 표현해보는 기회를 가지시면 좋을 것 같습니다.\n"
>>>>>>> refs/rewritten/병합
     ]
    },
    {
     "name": "stderr",
     "output_type": "stream",
     "text": [
<<<<<<< HEAD
      "127.0.0.1 - - [03/Sep/2024 16:53:00] \"POST /chatbot HTTP/1.1\" 200 -\n"
=======
      "127.0.0.1 - - [03/Sep/2024 17:47:42] \"POST /chatbot HTTP/1.1\" 200 -\n"
>>>>>>> refs/rewritten/병합
     ]
    },
    {
     "name": "stdout",
     "output_type": "stream",
     "text": [
<<<<<<< HEAD
      "Extracted reason: '취업/진로'\n",
      "Problem reason: 취업/진로\n",
      "정렬된 형태소 분석 결과: ['취업/NNG', '준비/NNG', '가/JKS', '고민/NNG', '이에요/JKS']\n"
=======
      "참조자료 먼저 내가 방어적인 태도를 보인다는 것을 알아차리고 계시기에 어떤 부분 때문에 다른 사람들이 나를 이상하게 볼 것 같은지 원인이 되었던 경험을 탐색해 본다면 좋을 것 같습니다. 현재 드러난 나의 어려움에만 집중하기 보다는 과거에 이런 경험들로 인하여 이렇게 행동할 수밖에 없는 과정을 알아차려 본다면 방어 성향을 타당하게 바라볼 수 있을 것입니다.  또한 주위 사람들 중에서 가장 편안하게 대화할 수 있는 안전한 상대에게 내가 할 수 있는 만큼만 조금씩 마음을 표현해보는 경험도 도움이 될 수 있습니다. 이런 경험은 이전에 확고하게 자리잡은 나의 생각(솔직하게 마음을 표현하면 이상하게 바라볼 거야)과 다른 반응을 경험할 수 있는 기회가 될 수 있어 도움이 될 것입니다.. 만일 그런 대상이 없다면 상담사의 도움을 통해 이런 고민을 나누고 상담사와의 관계에서 마음을 표현해보는 기회를 가지시면 좋을 것 같습니다.\n",
      "gpt응답 Flask를 Pie Chart로 잘못 이해할 확률에 대해 설명하겠습니다. 이에 대한 객관적 근거는 다음과 같습니다.\n",
      "\n",
      "1. 용어 혼동: Flask와 Pie Chart는 서로 다른 개념입니다. Flask는 Python 기반의 웹 개발 프레임워크이고, Pie Chart는 데이터를 원형 그래프로 시각화하는 방법입니다. 이 두 개념의 차이를 모르는 경우 Flask를 Pie Chart로 잘못 이해할 가능성이 있습니다.\n",
      "\n",
      "2. 경험 부족: Python 혹은 웹 개발, 데이터 시각화에 대한 경험이 부족한 경우에도 이 두 개념을 혼동할 수 있습니다. \n",
      "\n",
      "3. 부적절한 자료: 불완전하거나 잘못된 정보를 제공하는 자료를 통해 학습할 경우에도 Flask와 Pie Chart를 잘못 이해할 수 있습니다.\n",
      "\n",
      "이에 따라, 위의 세 가지 원인을 주의하면서 학습을 진행하면 Flask를 Pie Chart로 잘못 이해하는 확률을 줄일 수 있을 것입니다.\n",
      "정렬된 형태소 분석 결과: ['Flask/SL', '를/NNG', 'pie/SL', 'Chart/SL', '로/NNG', '잘못/NNG', '얻어/VV', '들을/VV', '확률/NNG', '에/JKS', '대해/NNG', '서/JKS', '설명/NNG', '해줘/VV', './SF', '객관/NNG', '적/XSN', '인/JKS', '근거/NNG', '도/JKS', '3/SN', '가지/NNG', '정도/NNG']\n"
     ]
    },
    {
     "name": "stderr",
     "output_type": "stream",
     "text": [
      "127.0.0.1 - - [03/Sep/2024 17:48:07] \"OPTIONS /chatbot HTTP/1.1\" 200 -\n"
     ]
    },
    {
     "name": "stdout",
     "output_type": "stream",
     "text": [
      "Received data: {'user_nick': '12', 'input': '아니 그래서 확률이 몇프로 정도 된다고 생각하냐고'}\n",
      "Processing input: user_nick=12, user_input=아니 그래서 확률이 몇프로 정도 된다고 생각하냐고\n",
      "Is problem flag: False\n"
     ]
    },
    {
     "name": "stderr",
     "output_type": "stream",
     "text": [
      "127.0.0.1 - - [03/Sep/2024 17:48:13] \"POST /chatbot HTTP/1.1\" 200 -\n",
      "127.0.0.1 - - [03/Sep/2024 17:49:39] \"OPTIONS /chatbot HTTP/1.1\" 200 -\n"
     ]
    },
    {
     "name": "stdout",
     "output_type": "stream",
     "text": [
      "Received data: {'user_nick': '12', 'input': '프로젝트 작업 중 A가 B에게 \"Flask 돌려봤어?\"라고 물었을 때, B는\"네 돌렸어요.\" 라고 말했고, A가 잠시 후 B를 살펴보자 B는 \"pie chart라고 한 거 아니었어요?\" 라며 자신이 들은 내용을 부정했어.'}\n",
      "Processing input: user_nick=12, user_input=프로젝트 작업 중 A가 B에게 \"Flask 돌려봤어?\"라고 물었을 때, B는\"네 돌렸어요.\" 라고 말했고, A가 잠시 후 B를 살펴보자 B는 \"pie chart라고 한 거 아니었어요?\" 라며 자신이 들은 내용을 부정했어.\n",
      "Is problem flag: False\n"
     ]
    },
    {
     "name": "stderr",
     "output_type": "stream",
     "text": [
      "127.0.0.1 - - [03/Sep/2024 17:49:52] \"POST /chatbot HTTP/1.1\" 200 -\n",
      "127.0.0.1 - - [03/Sep/2024 17:50:11] \"OPTIONS /chatbot HTTP/1.1\" 200 -\n"
     ]
    },
    {
     "name": "stdout",
     "output_type": "stream",
     "text": [
      "Received data: {'user_nick': '12', 'input': '그래서 ㅅㅂ 말이 되는지 안되는지 확률이 얼마 정도 되냐고'}\n",
      "Processing input: user_nick=12, user_input=그래서 ㅅㅂ 말이 되는지 안되는지 확률이 얼마 정도 되냐고\n",
      "Is problem flag: False\n"
     ]
    },
    {
     "name": "stderr",
     "output_type": "stream",
     "text": [
      "127.0.0.1 - - [03/Sep/2024 17:50:25] \"POST /chatbot HTTP/1.1\" 200 -\n"
>>>>>>> refs/rewritten/병합
     ]
    }
   ],
   "source": [
    "from flask import Flask, request, jsonify\n",
    "from flask_cors import CORS\n",
    "from chatbot import ChatBot, load_api_key\n",
    "from OktSentiment import Sentiment\n",
    "\n",
    "app = Flask(__name__)\n",
    "CORS(app)\n",
    "\n",
    "# ChatBot 인스턴스 생성\n",
    "api_key = load_api_key()\n",
    "if not api_key:\n",
    "    raise ValueError(\"API key not found or invalid. Please check your api_key.txt file.\")\n",
<<<<<<< HEAD
    "chatbot = ChatBot(api_key, 'c:/Users/SMHRD/원인-대처종합.csv')  # CSV 파일 경로를 적절히 수정하세요\n",
=======
    "chatbot = ChatBotTs(api_key, 'C:\\\\Users\\\\smhrd\\\\Documents\\\\카카오톡 받은 파일\\\\원인-대처종합.csv')  # CSV 파일 경로를 적절히 수정하세요\n",
>>>>>>> refs/rewritten/병합
    "#C:\\Users\\SMHRD\\Documents\\카카오톡 받은 파일\\원인-대처종합.csv //c:/Users/SMHRD/원인-대처종합.csv\n",
    "# Sentiment 인스턴스 생성\n",
    "sentiment_analyzer = Sentiment()\n",
    "\n",
    "@app.route(\"/chatbot\", methods=[\"POST\"])\n",
    "def chat():\n",
    "    data = request.json\n",
    "    print(\"Received data:\", data)\n",
    "    user_nick = data.get(\"user_nick\")\n",
    "    user_input = data.get(\"input\")\n",
    "    \n",
    "    if user_input:\n",
    "        try:\n",
    "            response = chatbot.process_input(user_nick, user_input)\n",
    "            if response.get(\"isProblem\"):\n",
    "                # 형태소 분석 및 감정 분석 수행\n",
    "                sentiment_results = sentiment_analyzer.parse([user_input])\n",
    "                # 결과가 딕셔너리 형태로 바꾸고 소수점 소수점 둘쨰자리까지\n",
    "                if 'polarity' in sentiment_results and len(sentiment_results['polarity']) > 0:\n",
    "                    sentiment_results = sentiment_results['polarity'][0]\n",
    "                    sentiment_results = {key: round(value * 100, 2) for key, value in sentiment_results.items()}\n",
    "\n",
    "                response.update({\n",
    "                    \"sentiment\": sentiment_results\n",
    "                })\n",
    "\n",
    "            return jsonify(response)\n",
    "        except Exception as e:\n",
    "            print(f\"Error occurred: {str(e)}\")\n",
    "            return jsonify({\"error\": f\"An error occurred while processing your request: {str(e)}\"}), 500\n",
    "    else:\n",
    "        return jsonify({\"error\": \"No input provided\"}), 400\n",
    "\n",
    "if __name__ == \"__main__\":\n",
    "    app.run(port=7000)"
   ]
  }
 ],
 "metadata": {
  "kernelspec": {
   "display_name": "base",
   "language": "python",
   "name": "python3"
  },
  "language_info": {
   "codemirror_mode": {
    "name": "ipython",
    "version": 3
   },
   "file_extension": ".py",
   "mimetype": "text/x-python",
   "name": "python",
   "nbconvert_exporter": "python",
   "pygments_lexer": "ipython3",
   "version": "3.11.7"
  }
 },
 "nbformat": 4,
 "nbformat_minor": 2
}
