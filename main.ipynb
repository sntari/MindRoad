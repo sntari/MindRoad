{
 "cells": [
  {
   "cell_type": "code",
   "execution_count": 1,
   "metadata": {},
   "outputs": [
    {
     "name": "stdout",
     "output_type": "stream",
     "text": [
      " * Serving Flask app '__main__'\n",
      " * Debug mode: off\n"
     ]
    },
    {
     "name": "stderr",
     "output_type": "stream",
     "text": [
      "WARNING: This is a development server. Do not use it in a production deployment. Use a production WSGI server instead.\n",
      " * Running on http://127.0.0.1:7000\n",
      "Press CTRL+C to quit\n",
      "127.0.0.1 - - [03/Sep/2024 15:40:58] \"OPTIONS /chatbot HTTP/1.1\" 200 -\n"
     ]
    },
    {
     "name": "stdout",
     "output_type": "stream",
     "text": [
      "Received data: {'user_nick': 'ADMIN', 'input': '20후반 졸유하여 취준중에 있습니다. 멋모르던 새내기 마음으로 앞길 창창할것만 같던 갓 성인된 20살때가 너무 그리워요... 새내기 시절, 새벽까지 술먹고 놀아도 건강했었습니다. 또한 동기,후배,형누나들과의 즐거웠던 시간들, 그때의 분위기, 실수, 사랑, 노래, 학교, 사람들 등 요근래 제 머릿속에 맴돌고 있습니다. 이제와서 돌아보니 그때만큼 좋았던적 없었고 앞으로도 없을거란 생각에 우울하고 미치겠더군요'}\n",
      "Processing input: user_nick=ADMIN, user_input=20후반 졸유하여 취준중에 있습니다. 멋모르던 새내기 마음으로 앞길 창창할것만 같던 갓 성인된 20살때가 너무 그리워요... 새내기 시절, 새벽까지 술먹고 놀아도 건강했었습니다. 또한 동기,후배,형누나들과의 즐거웠던 시간들, 그때의 분위기, 실수, 사랑, 노래, 학교, 사람들 등 요근래 제 머릿속에 맴돌고 있습니다. 이제와서 돌아보니 그때만큼 좋았던적 없었고 앞으로도 없을거란 생각에 우울하고 미치겠더군요\n"
     ]
    },
    {
     "name": "stderr",
     "output_type": "stream",
     "text": [
      "c:\\Users\\SMHRD\\anaconda3\\Lib\\site-packages\\langchain_core\\_api\\deprecation.py:139: LangChainDeprecationWarning: The class `LLMChain` was deprecated in LangChain 0.1.17 and will be removed in 1.0. Use RunnableSequence, e.g., `prompt | llm` instead.\n",
      "  warn_deprecated(\n",
      "c:\\Users\\SMHRD\\anaconda3\\Lib\\site-packages\\langchain_core\\_api\\deprecation.py:139: LangChainDeprecationWarning: The method `Chain.run` was deprecated in langchain 0.1.0 and will be removed in 0.3.0. Use invoke instead.\n",
      "  warn_deprecated(\n"
     ]
    },
    {
     "name": "stdout",
     "output_type": "stream",
     "text": [
      "Is problem flag: True\n",
      "고민임\n"
     ]
    },
    {
     "name": "stderr",
     "output_type": "stream",
     "text": [
      "127.0.0.1 - - [03/Sep/2024 15:41:00] \"POST /chatbot HTTP/1.1\" 200 -\n"
     ]
    },
    {
     "name": "stdout",
     "output_type": "stream",
     "text": [
      "Extracted reason: '취업/진로'\n",
      "Problem reason: 취업/진로\n",
      "Error processing input: Missing some input keys: {'user_input'}\n"
     ]
    }
   ],
   "source": [
    "from flask import Flask, request, jsonify\n",
    "from flask_cors import CORS\n",
    "from chatbot_test import ChatBotTs, load_api_key\n",
    "from OktSentiment import Sentiment\n",
    "\n",
    "app = Flask(__name__)\n",
    "CORS(app)\n",
    "\n",
    "# ChatBot 인스턴스 생성\n",
    "api_key = load_api_key()\n",
    "if not api_key:\n",
    "    raise ValueError(\"API key not found or invalid. Please check your api_key.txt file.\")\n",
    "chatbot = ChatBotTs(api_key, 'C:\\\\Users\\\\SMHRD\\\\Documents\\\\카카오톡 받은 파일\\\\원인-대처종합.csv')  # CSV 파일 경로를 적절히 수정하세요\n",
    "#C:\\Users\\SMHRD\\Documents\\카카오톡 받은 파일\\원인-대처종합.csv //c:/Users/SMHRD/원인-대처종합.csv\n",
    "# Sentiment 인스턴스 생성\n",
    "sentiment_analyzer = Sentiment()\n",
    "\n",
    "@app.route(\"/chatbot\", methods=[\"POST\"])\n",
    "def chat():\n",
    "    data = request.json\n",
    "    print(\"Received data:\", data)\n",
    "    user_nick = data.get(\"user_nick\")\n",
    "    user_input = data.get(\"input\")\n",
    "    \n",
    "    if user_input:\n",
    "        try:\n",
    "            response = chatbot.process_input(user_nick, user_input)\n",
    "            if response.get(\"isProblem\"):\n",
    "                # 형태소 분석 및 감정 분석 수행\n",
    "                sentiment_results = sentiment_analyzer.parse([user_input])\n",
    "                # 결과가 딕셔너리 형태로 바꾸고 소수점 소수점 둘쨰자리까지\n",
    "                if 'polarity' in sentiment_results and len(sentiment_results['polarity']) > 0:\n",
    "                    sentiment_results = sentiment_results['polarity'][0]\n",
    "                    sentiment_results = {key: round(value * 100, 2) for key, value in sentiment_results.items()}\n",
    "\n",
    "                response.update({\n",
    "                    \"sentiment\": sentiment_results\n",
    "                })\n",
    "\n",
    "            return jsonify(response)\n",
    "        except Exception as e:\n",
    "            print(f\"Error occurred: {str(e)}\")\n",
    "            return jsonify({\"error\": f\"An error occurred while processing your request: {str(e)}\"}), 500\n",
    "    else:\n",
    "        return jsonify({\"error\": \"No input provided\"}), 400\n",
    "\n",
    "if __name__ == \"__main__\":\n",
    "    app.run(port=7000)"
   ]
  }
 ],
 "metadata": {
  "kernelspec": {
   "display_name": "base",
   "language": "python",
   "name": "python3"
  },
  "language_info": {
   "codemirror_mode": {
    "name": "ipython",
    "version": 3
   },
   "file_extension": ".py",
   "mimetype": "text/x-python",
   "name": "python",
   "nbconvert_exporter": "python",
   "pygments_lexer": "ipython3",
   "version": "3.11.7"
  }
 },
 "nbformat": 4,
 "nbformat_minor": 2
}
