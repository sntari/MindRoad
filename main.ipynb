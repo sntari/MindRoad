{
 "cells": [
  {
   "cell_type": "code",
   "execution_count": 11,
   "metadata": {},
   "outputs": [
    {
     "name": "stdout",
     "output_type": "stream",
     "text": [
      " * Serving Flask app '__main__'\n",
      " * Debug mode: off\n"
     ]
    },
    {
     "name": "stderr",
     "output_type": "stream",
     "text": [
      "WARNING: This is a development server. Do not use it in a production deployment. Use a production WSGI server instead.\n",
      " * Running on http://127.0.0.1:7000\n",
      "Press CTRL+C to quit\n",
      "127.0.0.1 - - [31/Aug/2024 17:18:48] \"OPTIONS /chatbot HTTP/1.1\" 200 -\n",
      "127.0.0.1 - - [31/Aug/2024 17:18:49] \"POST /chatbot HTTP/1.1\" 500 -\n"
     ]
    },
    {
     "name": "stdout",
     "output_type": "stream",
     "text": [
      "Error processing input: Missing some input keys: {'user_input'}\n"
     ]
    }
   ],
   "source": [
    "from flask import Flask, request, jsonify\n",
    "from flask_cors import CORS\n",
    "from chatbot import ChatBot\n",
    "# from tarot import interpret_cards,general_reading\n",
    "import requests\n",
    "import threading\n",
    "\n",
    "app = Flask(__name__)\n",
    "CORS(app)\n",
    "\n",
    "# 메인 챗봇 라우트\n",
    "@app.route(\"/chatbot\",methods=[\"POST\"])\n",
    "def chat():\n",
    "    data = request.json\n",
    "    user_nick = data.get(\"user_nick\")\n",
    "    input = data.get(\"input\")\n",
    "\n",
    "    if input:\n",
    "        try:\n",
    "            # chat 초기화\n",
    "            chatbot = ChatBot(\"c:/Users/SMHRD/api.txt\", \"C:/Users/SMHRD/원인-대처종합.csv\")\n",
    "            \n",
    "            response = chatbot.process_input(user_nick,input)\n",
    "            \n",
    "            # if response[\"reason\"]:\n",
    "            #     dic_data = {\n",
    "            #         \"user_nick\" : user_nick,\n",
    "            #         \"user_input\" : user_input\n",
    "            #     }\n",
    "            #     send_dic(dic_data)\n",
    "            return response   \n",
    "           \n",
    "        except Exception as e:\n",
    "            return jsonify({\"error\" : str(e)}), 500\n",
    "        \n",
    "    else:\n",
    "        return jsonify({\"error\" : \"사용자의 입력이 없습니다.\"}), 400\n",
    "    \n",
    "# 타로카드 라우트\n",
    "# @app.route(\"\",method=[\"POST\"])\n",
    "# def tarot_card():\n",
    "#     data = request.json\n",
    "#     cards = data.get(\"cards\")\n",
    "#     reason = data.get(\"reason\")\n",
    "#     user_input = data.get(\"user_input\")\n",
    "#     user_select = data.get(\"select_cate\")\n",
    "\n",
    "#     if not cards or len(cards) != 3:\n",
    "#         return jsonify({\"error\": \"카드를 다시 선택해 주세요.\"}),400\n",
    "    \n",
    "#     try:\n",
    "#         if reason:\n",
    "#             response = interpret_cards(user_input,cards)\n",
    "#         else:\n",
    "#             response = general_reading(user_select,cards)\n",
    "#         return response\n",
    "    \n",
    "#     except Exception as e:\n",
    "#         return jsonify({\"error\":str(e)}),500\n",
    "\n",
    "# reason이 있는경우에만 동작, 사용자 대답을 위해 비동기처리    \n",
    "# def send_dic(data):\n",
    "#     def user_data():\n",
    "#         sentiment_url = \"\"\n",
    "#         try:\n",
    "#             response = request.post(sentiment_url,json=data)\n",
    "#             response.raise_for_status()\n",
    "#         except requests.RequestException as e:\n",
    "#             e\n",
    "#     thread = threading.Thread(target=user_data)\n",
    "#     thread.start()\n",
    "\n",
    "\n",
    "if __name__ == \"__main__\":\n",
    "    app.run(port=7000) #Flask 서버 포트 설정"
   ]
  },
  {
   "cell_type": "code",
   "execution_count": 6,
   "metadata": {},
   "outputs": [
    {
     "name": "stdout",
     "output_type": "stream",
     "text": [
      "Requirement already satisfied: langchain-openai in c:\\users\\smhrd\\anaconda3\\lib\\site-packages (0.1.23)\n",
      "Requirement already satisfied: langchain-core<0.3.0,>=0.2.35 in c:\\users\\smhrd\\anaconda3\\lib\\site-packages (from langchain-openai) (0.2.37)\n",
      "Requirement already satisfied: openai<2.0.0,>=1.40.0 in c:\\users\\smhrd\\anaconda3\\lib\\site-packages (from langchain-openai) (1.42.0)\n",
      "Requirement already satisfied: tiktoken<1,>=0.7 in c:\\users\\smhrd\\anaconda3\\lib\\site-packages (from langchain-openai) (0.7.0)\n",
      "Requirement already satisfied: PyYAML>=5.3 in c:\\users\\smhrd\\anaconda3\\lib\\site-packages (from langchain-core<0.3.0,>=0.2.35->langchain-openai) (6.0.1)\n",
      "Requirement already satisfied: jsonpatch<2.0,>=1.33 in c:\\users\\smhrd\\anaconda3\\lib\\site-packages (from langchain-core<0.3.0,>=0.2.35->langchain-openai) (1.33)\n",
      "Requirement already satisfied: langsmith<0.2.0,>=0.1.75 in c:\\users\\smhrd\\anaconda3\\lib\\site-packages (from langchain-core<0.3.0,>=0.2.35->langchain-openai) (0.1.106)\n",
      "Requirement already satisfied: packaging<25,>=23.2 in c:\\users\\smhrd\\anaconda3\\lib\\site-packages (from langchain-core<0.3.0,>=0.2.35->langchain-openai) (24.1)\n",
      "Requirement already satisfied: pydantic<3,>=1 in c:\\users\\smhrd\\anaconda3\\lib\\site-packages (from langchain-core<0.3.0,>=0.2.35->langchain-openai) (1.10.12)\n",
      "Requirement already satisfied: tenacity!=8.4.0,<9.0.0,>=8.1.0 in c:\\users\\smhrd\\anaconda3\\lib\\site-packages (from langchain-core<0.3.0,>=0.2.35->langchain-openai) (8.2.2)\n",
      "Requirement already satisfied: typing-extensions>=4.7 in c:\\users\\smhrd\\anaconda3\\lib\\site-packages (from langchain-core<0.3.0,>=0.2.35->langchain-openai) (4.12.2)\n",
      "Requirement already satisfied: anyio<5,>=3.5.0 in c:\\users\\smhrd\\anaconda3\\lib\\site-packages (from openai<2.0.0,>=1.40.0->langchain-openai) (4.2.0)\n",
      "Requirement already satisfied: distro<2,>=1.7.0 in c:\\users\\smhrd\\anaconda3\\lib\\site-packages (from openai<2.0.0,>=1.40.0->langchain-openai) (1.8.0)\n",
      "Requirement already satisfied: httpx<1,>=0.23.0 in c:\\users\\smhrd\\anaconda3\\lib\\site-packages (from openai<2.0.0,>=1.40.0->langchain-openai) (0.26.0)\n",
      "Requirement already satisfied: jiter<1,>=0.4.0 in c:\\users\\smhrd\\anaconda3\\lib\\site-packages (from openai<2.0.0,>=1.40.0->langchain-openai) (0.5.0)\n",
      "Requirement already satisfied: sniffio in c:\\users\\smhrd\\anaconda3\\lib\\site-packages (from openai<2.0.0,>=1.40.0->langchain-openai) (1.3.0)\n",
      "Requirement already satisfied: tqdm>4 in c:\\users\\smhrd\\anaconda3\\lib\\site-packages (from openai<2.0.0,>=1.40.0->langchain-openai) (4.65.0)\n",
      "Requirement already satisfied: regex>=2022.1.18 in c:\\users\\smhrd\\anaconda3\\lib\\site-packages (from tiktoken<1,>=0.7->langchain-openai) (2023.10.3)\n",
      "Requirement already satisfied: requests>=2.26.0 in c:\\users\\smhrd\\anaconda3\\lib\\site-packages (from tiktoken<1,>=0.7->langchain-openai) (2.31.0)\n",
      "Requirement already satisfied: idna>=2.8 in c:\\users\\smhrd\\anaconda3\\lib\\site-packages (from anyio<5,>=3.5.0->openai<2.0.0,>=1.40.0->langchain-openai) (3.4)\n",
      "Requirement already satisfied: certifi in c:\\users\\smhrd\\anaconda3\\lib\\site-packages (from httpx<1,>=0.23.0->openai<2.0.0,>=1.40.0->langchain-openai) (2024.7.4)\n",
      "Requirement already satisfied: httpcore==1.* in c:\\users\\smhrd\\anaconda3\\lib\\site-packages (from httpx<1,>=0.23.0->openai<2.0.0,>=1.40.0->langchain-openai) (1.0.2)\n",
      "Requirement already satisfied: h11<0.15,>=0.13 in c:\\users\\smhrd\\anaconda3\\lib\\site-packages (from httpcore==1.*->httpx<1,>=0.23.0->openai<2.0.0,>=1.40.0->langchain-openai) (0.14.0)\n",
      "Requirement already satisfied: jsonpointer>=1.9 in c:\\users\\smhrd\\anaconda3\\lib\\site-packages (from jsonpatch<2.0,>=1.33->langchain-core<0.3.0,>=0.2.35->langchain-openai) (2.1)\n",
      "Requirement already satisfied: orjson<4.0.0,>=3.9.14 in c:\\users\\smhrd\\anaconda3\\lib\\site-packages (from langsmith<0.2.0,>=0.1.75->langchain-core<0.3.0,>=0.2.35->langchain-openai) (3.10.7)\n",
      "Requirement already satisfied: charset-normalizer<4,>=2 in c:\\users\\smhrd\\anaconda3\\lib\\site-packages (from requests>=2.26.0->tiktoken<1,>=0.7->langchain-openai) (2.0.4)\n",
      "Requirement already satisfied: urllib3<3,>=1.21.1 in c:\\users\\smhrd\\anaconda3\\lib\\site-packages (from requests>=2.26.0->tiktoken<1,>=0.7->langchain-openai) (2.0.7)\n",
      "Requirement already satisfied: colorama in c:\\users\\smhrd\\anaconda3\\lib\\site-packages (from tqdm>4->openai<2.0.0,>=1.40.0->langchain-openai) (0.4.6)\n",
      "Note: you may need to restart the kernel to use updated packages.\n"
     ]
    }
   ],
   "source": [
    "%pip install -U langchain-openai"
   ]
  }
 ],
 "metadata": {
  "kernelspec": {
   "display_name": "base",
   "language": "python",
   "name": "python3"
  },
  "language_info": {
   "codemirror_mode": {
    "name": "ipython",
    "version": 3
   },
   "file_extension": ".py",
   "mimetype": "text/x-python",
   "name": "python",
   "nbconvert_exporter": "python",
   "pygments_lexer": "ipython3",
   "version": "3.11.7"
  }
 },
 "nbformat": 4,
 "nbformat_minor": 2
}
